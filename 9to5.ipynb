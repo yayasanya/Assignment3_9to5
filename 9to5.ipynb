{
    "metadata": {
        "kernelspec": {
            "name": "SQL",
            "display_name": "SQL",
            "language": "sql"
        },
        "language_info": {
            "name": "sql",
            "version": ""
        },
        "extensions": {
            "azuredatastudio": {
                "version": 1,
                "views": []
            }
        }
    },
    "nbformat_minor": 2,
    "nbformat": 4,
    "cells": [
        {
            "cell_type": "markdown",
            "source": [
                "# <span style=\"font-size: 20pt; font-family: Montserrat, sans-serif; color: rgb(92, 148, 206); background-color: rgb(255, 255, 255); font-weight: 700; font-variant-east-asian: normal; vertical-align: baseline; white-space: pre-wrap;\">Graded Assignment 3: 9 to 5</span>\n",
                "\n",
                "  \n",
                "\n",
                "<span style=\"font-size: 10pt; font-family: &quot;Times New Roman&quot;; color: rgb(102, 102, 102); background-color: rgb(255, 255, 255); font-variant-east-asian: normal; vertical-align: baseline; white-space: pre-wrap;\">Time to show off your SQL skills! For each question, copy the SQL query you used and make note of the answer.</span>\n",
                "\n",
                "  \n",
                "\n",
                "## <span style=\"font-size: 12pt; font-family: Montserrat, sans-serif; color: rgb(53, 74, 95); background-color: rgb(255, 255, 255); font-weight: 700; font-variant-east-asian: normal; vertical-align: baseline; white-space: pre-wrap;\">The Dataset</span>\n",
                "\n",
                "<span style=\"font-size: 10pt; font-family: &quot;Times New Roman&quot;; color: rgb(102, 102, 102); background-color: rgb(255, 255, 255); font-variant-east-asian: normal; vertical-align: baseline; white-space: pre-wrap;\">For this assignment, you will be using the Bureau of Labor Statistics (BLS) Current Employment Survey (CES) results which can be found on</span> [<span style=\"font-size: 10pt; font-family: &quot;Times New Roman&quot;; color: rgb(17, 85, 204); background-color: rgb(255, 255, 255); font-variant-east-asian: normal; text-decoration-line: underline; vertical-align: baseline; white-space: pre-wrap;\">Kaggle</span>](https://www.kaggle.com/bls/employment)<span style=\"font-size: 10pt; font-family: &quot;Times New Roman&quot;; color: rgb(102, 102, 102); background-color: rgb(255, 255, 255); font-variant-east-asian: normal; vertical-align: baseline; white-space: pre-wrap;\">.</span>\n",
                "\n",
                "  \n",
                "\n",
                "## <span style=\"font-size: 12pt; font-family: Montserrat, sans-serif; color: rgb(53, 74, 95); background-color: rgb(255, 255, 255); font-weight: 700; font-variant-east-asian: normal; vertical-align: baseline; white-space: pre-wrap;\">Business Issue</span>\n",
                "\n",
                "<span style=\"font-size: 10pt; font-family: &quot;Times New Roman&quot;; color: rgb(102, 102, 102); background-color: rgb(255, 255, 255); font-variant-east-asian: normal; vertical-align: baseline; white-space: pre-wrap;\">You are working for the Bureau of Labor Statistics with the United States government and have been approached by your boss with an important meeting request. You have been asked by your supervisor to meet with Dolly Parton whose nonprofit is looking to shed light on the state of employment in the United States. As part of the 9 to 5 project, their research is focused on production and nonsupervisory employees and how those employees fare compared to all employees in the United States. While the data the BLS collects from the CES is publicly available, Dolly Parton and her colleagues need your assistance navigating the thousands of rows in each table in LaborStatisticsDB.</span>\n",
                "\n",
                "  \n",
                "\n",
                "## <span style=\"font-size: 12pt; font-family: Montserrat, sans-serif; color: rgb(53, 74, 95); background-color: rgb(255, 255, 255); font-weight: 700; font-variant-east-asian: normal; vertical-align: baseline; white-space: pre-wrap;\">About the Dataset</span>\n",
                "\n",
                "<span style=\"font-size: 10pt; font-family: &quot;Times New Roman&quot;; color: rgb(102, 102, 102); background-color: rgb(255, 255, 255); font-variant-east-asian: normal; vertical-align: baseline; white-space: pre-wrap;\">This dataset comes directly from the Bureau of Labor Statistics’ Current Employment Survey (CES). Here are some things you need to know:</span>\n",
                "\n",
                "1. <span style=\"font-size: 10pt; background-color: rgb(255, 255, 255); font-variant-east-asian: normal; vertical-align: baseline; white-space: pre-wrap;\">The industry table contains an NAICS code. This is different from the industry code. NAICS stands for North American Industry Classification System.</span>\n",
                "    \n",
                "2. <span style=\"font-size: 10pt; background-color: rgb(255, 255, 255); font-variant-east-asian: normal; vertical-align: baseline; white-space: pre-wrap;\">Series ID is composed of multiple different codes. CES stands for Current Employment Survey, the name of the survey which collected the data. The industry code as specified by the BLS and the data type code as specified in the datatype table.</span>\n",
                "    \n",
                "\n",
                "  \n",
                "\n",
                "## <span style=\"font-size: 12pt; font-family: Montserrat, sans-serif; color: rgb(53, 74, 95); background-color: rgb(255, 255, 255); font-weight: 700; font-variant-east-asian: normal; vertical-align: baseline; white-space: pre-wrap;\">Set Up</span>\n",
                "\n",
                "<span style=\"font-size: 10pt; font-family: &quot;Times New Roman&quot;; color: rgb(102, 102, 102); background-color: rgb(255, 255, 255); font-variant-east-asian: normal; vertical-align: baseline; white-space: pre-wrap;\">To connect to the database, use the same connection info used during the SQL lessons.&nbsp;</span> \n",
                "\n",
                "<span style=\"font-size: 10pt; font-family: &quot;Times New Roman&quot;; color: rgb(102, 102, 102); background-color: rgb(255, 255, 255); font-variant-east-asian: normal; vertical-align: baseline; white-space: pre-wrap;\">For the assignment, we will be using the LaborStatisticsDB database.</span>\n",
                "\n",
                "  \n",
                "\n",
                "## <span style=\"font-size: 12pt; font-family: Montserrat, sans-serif; color: rgb(53, 74, 95); background-color: rgb(255, 255, 255); font-weight: 700; font-variant-east-asian: normal; vertical-align: baseline; white-space: pre-wrap;\">Database Exploration</span>\n",
                "\n",
                "<span style=\"font-size: 10pt; font-family: &quot;Times New Roman&quot;; color: rgb(102, 102, 102); background-color: rgb(255, 255, 255); font-variant-east-asian: normal; vertical-align: baseline; white-space: pre-wrap;\">To start with, let’s get to know the database further.</span>\n",
                "\n",
                "1. <span style=\"background-color: rgb(255, 255, 255); color: rgb(102, 102, 102); font-family: &quot;Times New Roman&quot;; font-size: 10pt; white-space: pre-wrap;\">Use this space to make note of each table in the database, the columns within each table, each column’s data type, and how the tables are connected. You can write this down or draw a diagram. Whatever method helps you get an understanding of what is going on with LaborStatisticsDB.</span>"
            ],
            "metadata": {
                "azdata_cell_guid": "28ea70c5-f0be-4197-b6c0-ade22886a708"
            },
            "attachments": {}
        },
        {
            "cell_type": "markdown",
            "source": [
                "To add a photo, diagram or document to your file, drop the file into the folder that holds this notebook.  Use the the link button to the right of the  \\</\\> symbol in the gray part of this cell, the link is just the name of your file.\n",
                "\n",
                "[DB structure](../../../../../../DB%20structure.pdf)"
            ],
            "metadata": {
                "azdata_cell_guid": "aeae906c-752c-49d3-b482-3ed6a4f54b6e"
            },
            "attachments": {}
        },
        {
            "cell_type": "code",
            "source": [
                "SELECT TABLE_NAME, COLUMN_NAME, DATA_TYPE FROM LaborStatisticsDB.INFORMATION_SCHEMA.COLUMNS"
            ],
            "metadata": {
                "azdata_cell_guid": "dbf3633e-8503-49e6-b128-cf010d1558cf",
                "language": "sql"
            },
            "outputs": [
                {
                    "output_type": "display_data",
                    "data": {
                        "text/html": "(39 rows affected)"
                    },
                    "metadata": {}
                },
                {
                    "output_type": "display_data",
                    "data": {
                        "text/html": "Total execution time: 00:00:00.089"
                    },
                    "metadata": {}
                },
                {
                    "output_type": "execute_result",
                    "execution_count": 1,
                    "data": {
                        "application/vnd.dataresource+json": {
                            "schema": {
                                "fields": [
                                    {
                                        "name": "TABLE_NAME"
                                    },
                                    {
                                        "name": "COLUMN_NAME"
                                    },
                                    {
                                        "name": "DATA_TYPE"
                                    }
                                ]
                            },
                            "data": [
                                {
                                    "TABLE_NAME": "datatype",
                                    "COLUMN_NAME": "data_type_code",
                                    "DATA_TYPE": "tinyint"
                                },
                                {
                                    "TABLE_NAME": "datatype",
                                    "COLUMN_NAME": "data_type_text",
                                    "DATA_TYPE": "nvarchar"
                                },
                                {
                                    "TABLE_NAME": "seasonal",
                                    "COLUMN_NAME": "industry_code",
                                    "DATA_TYPE": "nvarchar"
                                },
                                {
                                    "TABLE_NAME": "seasonal",
                                    "COLUMN_NAME": "seasonal_text",
                                    "DATA_TYPE": "nvarchar"
                                },
                                {
                                    "TABLE_NAME": "supersector",
                                    "COLUMN_NAME": "supersector_code",
                                    "DATA_TYPE": "tinyint"
                                },
                                {
                                    "TABLE_NAME": "supersector",
                                    "COLUMN_NAME": "supersector_name",
                                    "DATA_TYPE": "nvarchar"
                                },
                                {
                                    "TABLE_NAME": "footnote",
                                    "COLUMN_NAME": "footnote_code",
                                    "DATA_TYPE": "nvarchar"
                                },
                                {
                                    "TABLE_NAME": "footnote",
                                    "COLUMN_NAME": "footnote_text",
                                    "DATA_TYPE": "nvarchar"
                                },
                                {
                                    "TABLE_NAME": "january_2017",
                                    "COLUMN_NAME": "id",
                                    "DATA_TYPE": "bigint"
                                },
                                {
                                    "TABLE_NAME": "january_2017",
                                    "COLUMN_NAME": "series_id",
                                    "DATA_TYPE": "nvarchar"
                                },
                                {
                                    "TABLE_NAME": "january_2017",
                                    "COLUMN_NAME": "year",
                                    "DATA_TYPE": "smallint"
                                },
                                {
                                    "TABLE_NAME": "january_2017",
                                    "COLUMN_NAME": "period",
                                    "DATA_TYPE": "nvarchar"
                                },
                                {
                                    "TABLE_NAME": "january_2017",
                                    "COLUMN_NAME": "value",
                                    "DATA_TYPE": "float"
                                },
                                {
                                    "TABLE_NAME": "january_2017",
                                    "COLUMN_NAME": "footnote_codes",
                                    "DATA_TYPE": "nvarchar"
                                },
                                {
                                    "TABLE_NAME": "january_2017",
                                    "COLUMN_NAME": "original_file",
                                    "DATA_TYPE": "nvarchar"
                                },
                                {
                                    "TABLE_NAME": "annual_2016",
                                    "COLUMN_NAME": "id",
                                    "DATA_TYPE": "smallint"
                                },
                                {
                                    "TABLE_NAME": "annual_2016",
                                    "COLUMN_NAME": "series_id",
                                    "DATA_TYPE": "nvarchar"
                                },
                                {
                                    "TABLE_NAME": "annual_2016",
                                    "COLUMN_NAME": "year",
                                    "DATA_TYPE": "smallint"
                                },
                                {
                                    "TABLE_NAME": "annual_2016",
                                    "COLUMN_NAME": "period",
                                    "DATA_TYPE": "nvarchar"
                                },
                                {
                                    "TABLE_NAME": "annual_2016",
                                    "COLUMN_NAME": "value",
                                    "DATA_TYPE": "float"
                                },
                                {
                                    "TABLE_NAME": "annual_2016",
                                    "COLUMN_NAME": "footnote_codes",
                                    "DATA_TYPE": "nvarchar"
                                },
                                {
                                    "TABLE_NAME": "annual_2016",
                                    "COLUMN_NAME": "original_file",
                                    "DATA_TYPE": "nvarchar"
                                },
                                {
                                    "TABLE_NAME": "series",
                                    "COLUMN_NAME": "series_id",
                                    "DATA_TYPE": "nvarchar"
                                },
                                {
                                    "TABLE_NAME": "series",
                                    "COLUMN_NAME": "supersector_code",
                                    "DATA_TYPE": "bigint"
                                },
                                {
                                    "TABLE_NAME": "series",
                                    "COLUMN_NAME": "industry_code",
                                    "DATA_TYPE": "nvarchar"
                                },
                                {
                                    "TABLE_NAME": "series",
                                    "COLUMN_NAME": "data_type_code",
                                    "DATA_TYPE": "bigint"
                                },
                                {
                                    "TABLE_NAME": "series",
                                    "COLUMN_NAME": "seasonal",
                                    "DATA_TYPE": "nvarchar"
                                },
                                {
                                    "TABLE_NAME": "series",
                                    "COLUMN_NAME": "series_title",
                                    "DATA_TYPE": "nvarchar"
                                },
                                {
                                    "TABLE_NAME": "period",
                                    "COLUMN_NAME": "period_code",
                                    "DATA_TYPE": "nvarchar"
                                },
                                {
                                    "TABLE_NAME": "period",
                                    "COLUMN_NAME": "month_abbr",
                                    "DATA_TYPE": "nvarchar"
                                },
                                {
                                    "TABLE_NAME": "period",
                                    "COLUMN_NAME": "month",
                                    "DATA_TYPE": "nvarchar"
                                },
                                {
                                    "TABLE_NAME": "industry",
                                    "COLUMN_NAME": "id",
                                    "DATA_TYPE": "smallint"
                                },
                                {
                                    "TABLE_NAME": "industry",
                                    "COLUMN_NAME": "industry_code",
                                    "DATA_TYPE": "bigint"
                                },
                                {
                                    "TABLE_NAME": "industry",
                                    "COLUMN_NAME": "naics_code",
                                    "DATA_TYPE": "nvarchar"
                                },
                                {
                                    "TABLE_NAME": "industry",
                                    "COLUMN_NAME": "publishing_status",
                                    "DATA_TYPE": "nvarchar"
                                },
                                {
                                    "TABLE_NAME": "industry",
                                    "COLUMN_NAME": "industry_name",
                                    "DATA_TYPE": "nvarchar"
                                },
                                {
                                    "TABLE_NAME": "industry",
                                    "COLUMN_NAME": "display_level",
                                    "DATA_TYPE": "float"
                                },
                                {
                                    "TABLE_NAME": "industry",
                                    "COLUMN_NAME": "selectable",
                                    "DATA_TYPE": "nvarchar"
                                },
                                {
                                    "TABLE_NAME": "industry",
                                    "COLUMN_NAME": "sort_sequence",
                                    "DATA_TYPE": "float"
                                }
                            ]
                        },
                        "text/html": "<table><tr><th>TABLE_NAME</th><th>COLUMN_NAME</th><th>DATA_TYPE</th></tr><tr><td>datatype</td><td>data_type_code</td><td>tinyint</td></tr><tr><td>datatype</td><td>data_type_text</td><td>nvarchar</td></tr><tr><td>seasonal</td><td>industry_code</td><td>nvarchar</td></tr><tr><td>seasonal</td><td>seasonal_text</td><td>nvarchar</td></tr><tr><td>supersector</td><td>supersector_code</td><td>tinyint</td></tr><tr><td>supersector</td><td>supersector_name</td><td>nvarchar</td></tr><tr><td>footnote</td><td>footnote_code</td><td>nvarchar</td></tr><tr><td>footnote</td><td>footnote_text</td><td>nvarchar</td></tr><tr><td>january_2017</td><td>id</td><td>bigint</td></tr><tr><td>january_2017</td><td>series_id</td><td>nvarchar</td></tr><tr><td>january_2017</td><td>year</td><td>smallint</td></tr><tr><td>january_2017</td><td>period</td><td>nvarchar</td></tr><tr><td>january_2017</td><td>value</td><td>float</td></tr><tr><td>january_2017</td><td>footnote_codes</td><td>nvarchar</td></tr><tr><td>january_2017</td><td>original_file</td><td>nvarchar</td></tr><tr><td>annual_2016</td><td>id</td><td>smallint</td></tr><tr><td>annual_2016</td><td>series_id</td><td>nvarchar</td></tr><tr><td>annual_2016</td><td>year</td><td>smallint</td></tr><tr><td>annual_2016</td><td>period</td><td>nvarchar</td></tr><tr><td>annual_2016</td><td>value</td><td>float</td></tr><tr><td>annual_2016</td><td>footnote_codes</td><td>nvarchar</td></tr><tr><td>annual_2016</td><td>original_file</td><td>nvarchar</td></tr><tr><td>series</td><td>series_id</td><td>nvarchar</td></tr><tr><td>series</td><td>supersector_code</td><td>bigint</td></tr><tr><td>series</td><td>industry_code</td><td>nvarchar</td></tr><tr><td>series</td><td>data_type_code</td><td>bigint</td></tr><tr><td>series</td><td>seasonal</td><td>nvarchar</td></tr><tr><td>series</td><td>series_title</td><td>nvarchar</td></tr><tr><td>period</td><td>period_code</td><td>nvarchar</td></tr><tr><td>period</td><td>month_abbr</td><td>nvarchar</td></tr><tr><td>period</td><td>month</td><td>nvarchar</td></tr><tr><td>industry</td><td>id</td><td>smallint</td></tr><tr><td>industry</td><td>industry_code</td><td>bigint</td></tr><tr><td>industry</td><td>naics_code</td><td>nvarchar</td></tr><tr><td>industry</td><td>publishing_status</td><td>nvarchar</td></tr><tr><td>industry</td><td>industry_name</td><td>nvarchar</td></tr><tr><td>industry</td><td>display_level</td><td>float</td></tr><tr><td>industry</td><td>selectable</td><td>nvarchar</td></tr><tr><td>industry</td><td>sort_sequence</td><td>float</td></tr></table>"
                    },
                    "metadata": {}
                }
            ],
            "execution_count": 1
        },
        {
            "cell_type": "markdown",
            "source": [
                "2. <span style=\"background-color: rgb(255, 255, 255); color: rgb(102, 102, 102); font-family: Arvo, serif; font-size: 10pt; white-space: pre-wrap;\">What is the datatype for women employees?</span>"
            ],
            "metadata": {
                "azdata_cell_guid": "01b111b7-baf1-4617-88bc-cd442826c9c9"
            },
            "attachments": {}
        },
        {
            "cell_type": "code",
            "source": [
                "SELECT * FROM LaborStatisticsDB.dbo.[datatype]\n",
                "WHERE [data_type_text]='women employees'"
            ],
            "metadata": {
                "azdata_cell_guid": "02fa547c-0bb7-4a40-81c2-f5c05154df04",
                "language": "sql",
                "tags": [
                    "hide_input"
                ]
            },
            "outputs": [
                {
                    "output_type": "display_data",
                    "data": {
                        "text/html": "(1 row affected)"
                    },
                    "metadata": {}
                },
                {
                    "output_type": "display_data",
                    "data": {
                        "text/html": "Total execution time: 00:00:00.037"
                    },
                    "metadata": {}
                },
                {
                    "output_type": "execute_result",
                    "execution_count": 12,
                    "data": {
                        "application/vnd.dataresource+json": {
                            "schema": {
                                "fields": [
                                    {
                                        "name": "data_type_code"
                                    },
                                    {
                                        "name": "data_type_text"
                                    }
                                ]
                            },
                            "data": [
                                {
                                    "data_type_code": "10",
                                    "data_type_text": "WOMEN EMPLOYEES"
                                }
                            ]
                        },
                        "text/html": "<table><tr><th>data_type_code</th><th>data_type_text</th></tr><tr><td>10</td><td>WOMEN EMPLOYEES</td></tr></table>"
                    },
                    "metadata": {}
                }
            ],
            "execution_count": 12
        },
        {
            "cell_type": "markdown",
            "source": [
                "3. <span style=\"background-color: rgb(255, 255, 255); font-size: 10pt; white-space: pre-wrap; color: rgb(102, 102, 102); font-family: Arvo, serif;\">What is the series id for&nbsp; women employees in the commercial banking industry in the financial activities supersector?</span>"
            ],
            "metadata": {
                "azdata_cell_guid": "325f85cc-9545-47b3-b975-3aab6278e4ea"
            },
            "attachments": {}
        },
        {
            "cell_type": "code",
            "source": [
                "SELECT series_id,industry_code FROM LaborStatisticsDB.dbo.series\n",
                "WHERE industry_code=(SELECT industry_code FROM LaborStatisticsDB.dbo.industry WHERE industry_name='commercial banking') AND data_type_code=10"
            ],
            "metadata": {
                "azdata_cell_guid": "1315af1f-45f8-457d-8bbe-8e9f46303fca",
                "language": "sql"
            },
            "outputs": [
                {
                    "output_type": "display_data",
                    "data": {
                        "text/html": "(2 rows affected)"
                    },
                    "metadata": {}
                },
                {
                    "output_type": "display_data",
                    "data": {
                        "text/html": "Total execution time: 00:00:00.068"
                    },
                    "metadata": {}
                },
                {
                    "output_type": "execute_result",
                    "execution_count": 32,
                    "data": {
                        "application/vnd.dataresource+json": {
                            "schema": {
                                "fields": [
                                    {
                                        "name": "series_id"
                                    },
                                    {
                                        "name": "industry_code"
                                    }
                                ]
                            },
                            "data": [
                                {
                                    "series_id": "CES5552211010",
                                    "industry_code": "55522110"
                                },
                                {
                                    "series_id": "CEU5552211010",
                                    "industry_code": "55522110"
                                }
                            ]
                        },
                        "text/html": "<table><tr><th>series_id</th><th>industry_code</th></tr><tr><td>CES5552211010</td><td>55522110</td></tr><tr><td>CEU5552211010</td><td>55522110</td></tr></table>"
                    },
                    "metadata": {}
                }
            ],
            "execution_count": 32
        },
        {
            "cell_type": "markdown",
            "source": [
                "## <span style=\"font-size: 12pt; font-family: Montserrat, sans-serif; color: rgb(53, 74, 95); background-color: rgb(255, 255, 255); font-weight: 700; font-variant-numeric: normal; font-variant-east-asian: normal; vertical-align: baseline; white-space: pre-wrap;\">Join in on the Fun</span>\n",
                "\n",
                "<span style=\"font-size: 10pt; font-family: Arvo, serif; color: rgb(102, 102, 102); background-color: rgb(255, 255, 255); font-variant-numeric: normal; font-variant-east-asian: normal; vertical-align: baseline; white-space: pre-wrap;\">Time to start joining! You can choose the type of join you use, just make sure to make a&nbsp; note!</span>\n",
                "\n",
                "1. <span style=\"background-color: rgb(255, 255, 255); font-size: 10pt; white-space: pre-wrap; color: rgb(102, 102, 102); font-family: Arvo, serif;\">Join&nbsp; annual_2016 with series on series_id. We only want the data in the annual_2016 table to be included in the result.</span>"
            ],
            "metadata": {
                "azdata_cell_guid": "ec1dfc63-ad41-4349-8c26-1d326ace8c6c"
            },
            "attachments": {}
        },
        {
            "cell_type": "code",
            "source": [
                "SELECT TOP 10 * FROM LaborStatisticsDB.dbo.annual_2016 AS an\n",
                "LEFT JOIN LaborStatisticsDB.dbo.series AS s \n",
                "ON an.series_id=s.series_id"
            ],
            "metadata": {
                "azdata_cell_guid": "cf90f0b4-c482-4fbb-ac17-d2244881caab",
                "language": "sql"
            },
            "outputs": [
                {
                    "output_type": "display_data",
                    "data": {
                        "text/html": "(10 rows affected)"
                    },
                    "metadata": {}
                },
                {
                    "output_type": "display_data",
                    "data": {
                        "text/html": "Total execution time: 00:00:00.192"
                    },
                    "metadata": {}
                },
                {
                    "output_type": "execute_result",
                    "metadata": {},
                    "execution_count": 4,
                    "data": {
                        "application/vnd.dataresource+json": {
                            "schema": {
                                "fields": [
                                    {
                                        "name": "id"
                                    },
                                    {
                                        "name": "series_id"
                                    },
                                    {
                                        "name": "year"
                                    },
                                    {
                                        "name": "period"
                                    },
                                    {
                                        "name": "value"
                                    },
                                    {
                                        "name": "footnote_codes"
                                    },
                                    {
                                        "name": "original_file"
                                    },
                                    {
                                        "name": "series_id"
                                    },
                                    {
                                        "name": "supersector_code"
                                    },
                                    {
                                        "name": "industry_code"
                                    },
                                    {
                                        "name": "data_type_code"
                                    },
                                    {
                                        "name": "seasonal"
                                    },
                                    {
                                        "name": "series_title"
                                    }
                                ]
                            },
                            "data": [
                                {
                                    "id": "0",
                                    "series_id": "CEU5500000007",
                                    "year": "2016",
                                    "period": "M13",
                                    "value": "36.9",
                                    "footnote_codes": "NULL",
                                    "original_file": "ce.data.55c.FinancialActivities.ProductionEmployeeHoursAndEarnings.csv",
                                    "supersector_code": "55",
                                    "industry_code": "55000000",
                                    "data_type_code": "7",
                                    "seasonal": "U",
                                    "series_title": "Average weekly hours of production and nonsupervisory employees"
                                },
                                {
                                    "id": "1",
                                    "series_id": "CEU5500000008",
                                    "year": "2016",
                                    "period": "M13",
                                    "value": "26.11",
                                    "footnote_codes": "NULL",
                                    "original_file": "ce.data.55c.FinancialActivities.ProductionEmployeeHoursAndEarnings.csv",
                                    "supersector_code": "55",
                                    "industry_code": "55000000",
                                    "data_type_code": "8",
                                    "seasonal": "U",
                                    "series_title": "Average hourly earnings of production and nonsupervisory employees"
                                },
                                {
                                    "id": "2",
                                    "series_id": "CEU5500000030",
                                    "year": "2016",
                                    "period": "M13",
                                    "value": "962.73",
                                    "footnote_codes": "NULL",
                                    "original_file": "ce.data.55c.FinancialActivities.ProductionEmployeeHoursAndEarnings.csv",
                                    "supersector_code": "55",
                                    "industry_code": "55000000",
                                    "data_type_code": "30",
                                    "seasonal": "U",
                                    "series_title": "Average weekly earnings of production and nonsupervisory employees"
                                },
                                {
                                    "id": "3",
                                    "series_id": "CEU5500000031",
                                    "year": "2016",
                                    "period": "M13",
                                    "value": "411.29",
                                    "footnote_codes": "NULL",
                                    "original_file": "ce.data.55c.FinancialActivities.ProductionEmployeeHoursAndEarnings.csv",
                                    "supersector_code": "55",
                                    "industry_code": "55000000",
                                    "data_type_code": "31",
                                    "seasonal": "U",
                                    "series_title": "Average weekly earnings of production and nonsupervisory employees"
                                },
                                {
                                    "id": "4",
                                    "series_id": "CEU5500000032",
                                    "year": "2016",
                                    "period": "M13",
                                    "value": "11.15",
                                    "footnote_codes": "NULL",
                                    "original_file": "ce.data.55c.FinancialActivities.ProductionEmployeeHoursAndEarnings.csv",
                                    "supersector_code": "55",
                                    "industry_code": "55000000",
                                    "data_type_code": "32",
                                    "seasonal": "U",
                                    "series_title": "Average hourly earnings of production and nonsupervisory employees"
                                },
                                {
                                    "id": "5",
                                    "series_id": "CEU5500000034",
                                    "year": "2016",
                                    "period": "M13",
                                    "value": "111.6",
                                    "footnote_codes": "NULL",
                                    "original_file": "ce.data.55c.FinancialActivities.ProductionEmployeeHoursAndEarnings.csv",
                                    "supersector_code": "55",
                                    "industry_code": "55000000",
                                    "data_type_code": "34",
                                    "seasonal": "U",
                                    "series_title": "Indexes of aggregate weekly hours of production and nonsupervisory employees"
                                },
                                {
                                    "id": "6",
                                    "series_id": "CEU5500000035",
                                    "year": "2016",
                                    "period": "M13",
                                    "value": "179.2",
                                    "footnote_codes": "NULL",
                                    "original_file": "ce.data.55c.FinancialActivities.ProductionEmployeeHoursAndEarnings.csv",
                                    "supersector_code": "55",
                                    "industry_code": "55000000",
                                    "data_type_code": "35",
                                    "seasonal": "U",
                                    "series_title": "Indexes of aggregate weekly payrolls of production and nonsupervisory employees"
                                },
                                {
                                    "id": "7",
                                    "series_id": "CEU5500000081",
                                    "year": "2016",
                                    "period": "M13",
                                    "value": "236997",
                                    "footnote_codes": "NULL",
                                    "original_file": "ce.data.55c.FinancialActivities.ProductionEmployeeHoursAndEarnings.csv",
                                    "supersector_code": "55",
                                    "industry_code": "55000000",
                                    "data_type_code": "81",
                                    "seasonal": "U",
                                    "series_title": "Aggregate weekly hours of production and nonsupervisory employees"
                                },
                                {
                                    "id": "8",
                                    "series_id": "CEU5500000082",
                                    "year": "2016",
                                    "period": "M13",
                                    "value": "6189003",
                                    "footnote_codes": "NULL",
                                    "original_file": "ce.data.55c.FinancialActivities.ProductionEmployeeHoursAndEarnings.csv",
                                    "supersector_code": "55",
                                    "industry_code": "55000000",
                                    "data_type_code": "82",
                                    "seasonal": "U",
                                    "series_title": "Aggregate weekly payrolls of production and nonsupervisory employees"
                                },
                                {
                                    "id": "9",
                                    "series_id": "CEU5552200007",
                                    "year": "2016",
                                    "period": "M13",
                                    "value": "37.3",
                                    "footnote_codes": "NULL",
                                    "original_file": "ce.data.55c.FinancialActivities.ProductionEmployeeHoursAndEarnings.csv",
                                    "supersector_code": "55",
                                    "industry_code": "55522000",
                                    "data_type_code": "7",
                                    "seasonal": "U",
                                    "series_title": "Average weekly hours of production and nonsupervisory employees"
                                }
                            ]
                        },
                        "text/html": [
                            "<table>",
                            "<tr><th>id</th><th>series_id</th><th>year</th><th>period</th><th>value</th><th>footnote_codes</th><th>original_file</th><th>series_id</th><th>supersector_code</th><th>industry_code</th><th>data_type_code</th><th>seasonal</th><th>series_title</th></tr>",
                            "<tr><td>0</td><td>CEU5500000007</td><td>2016</td><td>M13</td><td>36.9</td><td>NULL</td><td>ce.data.55c.FinancialActivities.ProductionEmployeeHoursAndEarnings.csv</td><td>CEU5500000007</td><td>55</td><td>55000000</td><td>7</td><td>U</td><td>Average weekly hours of production and nonsupervisory employees</td></tr>",
                            "<tr><td>1</td><td>CEU5500000008</td><td>2016</td><td>M13</td><td>26.11</td><td>NULL</td><td>ce.data.55c.FinancialActivities.ProductionEmployeeHoursAndEarnings.csv</td><td>CEU5500000008</td><td>55</td><td>55000000</td><td>8</td><td>U</td><td>Average hourly earnings of production and nonsupervisory employees</td></tr>",
                            "<tr><td>2</td><td>CEU5500000030</td><td>2016</td><td>M13</td><td>962.73</td><td>NULL</td><td>ce.data.55c.FinancialActivities.ProductionEmployeeHoursAndEarnings.csv</td><td>CEU5500000030</td><td>55</td><td>55000000</td><td>30</td><td>U</td><td>Average weekly earnings of production and nonsupervisory employees</td></tr>",
                            "<tr><td>3</td><td>CEU5500000031</td><td>2016</td><td>M13</td><td>411.29</td><td>NULL</td><td>ce.data.55c.FinancialActivities.ProductionEmployeeHoursAndEarnings.csv</td><td>CEU5500000031</td><td>55</td><td>55000000</td><td>31</td><td>U</td><td>Average weekly earnings of production and nonsupervisory employees</td></tr>",
                            "<tr><td>4</td><td>CEU5500000032</td><td>2016</td><td>M13</td><td>11.15</td><td>NULL</td><td>ce.data.55c.FinancialActivities.ProductionEmployeeHoursAndEarnings.csv</td><td>CEU5500000032</td><td>55</td><td>55000000</td><td>32</td><td>U</td><td>Average hourly earnings of production and nonsupervisory employees</td></tr>",
                            "<tr><td>5</td><td>CEU5500000034</td><td>2016</td><td>M13</td><td>111.6</td><td>NULL</td><td>ce.data.55c.FinancialActivities.ProductionEmployeeHoursAndEarnings.csv</td><td>CEU5500000034</td><td>55</td><td>55000000</td><td>34</td><td>U</td><td>Indexes of aggregate weekly hours of production and nonsupervisory employees</td></tr>",
                            "<tr><td>6</td><td>CEU5500000035</td><td>2016</td><td>M13</td><td>179.2</td><td>NULL</td><td>ce.data.55c.FinancialActivities.ProductionEmployeeHoursAndEarnings.csv</td><td>CEU5500000035</td><td>55</td><td>55000000</td><td>35</td><td>U</td><td>Indexes of aggregate weekly payrolls of production and nonsupervisory employees</td></tr>",
                            "<tr><td>7</td><td>CEU5500000081</td><td>2016</td><td>M13</td><td>236997</td><td>NULL</td><td>ce.data.55c.FinancialActivities.ProductionEmployeeHoursAndEarnings.csv</td><td>CEU5500000081</td><td>55</td><td>55000000</td><td>81</td><td>U</td><td>Aggregate weekly hours of production and nonsupervisory employees</td></tr>",
                            "<tr><td>8</td><td>CEU5500000082</td><td>2016</td><td>M13</td><td>6189003</td><td>NULL</td><td>ce.data.55c.FinancialActivities.ProductionEmployeeHoursAndEarnings.csv</td><td>CEU5500000082</td><td>55</td><td>55000000</td><td>82</td><td>U</td><td>Aggregate weekly payrolls of production and nonsupervisory employees</td></tr>",
                            "<tr><td>9</td><td>CEU5552200007</td><td>2016</td><td>M13</td><td>37.3</td><td>NULL</td><td>ce.data.55c.FinancialActivities.ProductionEmployeeHoursAndEarnings.csv</td><td>CEU5552200007</td><td>55</td><td>55522000</td><td>7</td><td>U</td><td>Average weekly hours of production and nonsupervisory employees</td></tr>",
                            "</table>"
                        ]
                    }
                }
            ],
            "execution_count": 4
        },
        {
            "cell_type": "markdown",
            "source": [
                "2. <span style=\"background-color: rgb(255, 255, 255); font-size: 10pt; white-space: pre-wrap; color: rgb(102, 102, 102); font-family: Arvo, serif;\">Join series and datatype on data_type_code</span>"
            ],
            "metadata": {
                "azdata_cell_guid": "710b59ae-224b-4f9d-b1a4-4a6b89048bbb"
            },
            "attachments": {}
        },
        {
            "cell_type": "code",
            "source": [
                "SELECT TOP 10 * FROM LaborStatisticsDB.dbo.series as s \n",
                "FULL JOIN LaborStatisticsDB.dbo.datatype as d \n",
                "ON s.data_type_code=d.data_type_code"
            ],
            "metadata": {
                "azdata_cell_guid": "fca61371-c9b5-4823-a4b4-34c1279ece3e",
                "language": "sql"
            },
            "outputs": [
                {
                    "output_type": "display_data",
                    "data": {
                        "text/html": "(10 rows affected)"
                    },
                    "metadata": {}
                },
                {
                    "output_type": "display_data",
                    "data": {
                        "text/html": "Total execution time: 00:00:00.059"
                    },
                    "metadata": {}
                },
                {
                    "output_type": "execute_result",
                    "metadata": {},
                    "execution_count": 5,
                    "data": {
                        "application/vnd.dataresource+json": {
                            "schema": {
                                "fields": [
                                    {
                                        "name": "series_id"
                                    },
                                    {
                                        "name": "supersector_code"
                                    },
                                    {
                                        "name": "industry_code"
                                    },
                                    {
                                        "name": "data_type_code"
                                    },
                                    {
                                        "name": "seasonal"
                                    },
                                    {
                                        "name": "series_title"
                                    },
                                    {
                                        "name": "data_type_code"
                                    },
                                    {
                                        "name": "data_type_text"
                                    }
                                ]
                            },
                            "data": [
                                {
                                    "series_id": "CES0000000001",
                                    "supersector_code": "0",
                                    "industry_code": "00000000",
                                    "data_type_code": "1",
                                    "seasonal": "S",
                                    "series_title": "All employees",
                                    "data_type_text": "ALL EMPLOYEES"
                                },
                                {
                                    "series_id": "CES0000000010",
                                    "supersector_code": "0",
                                    "industry_code": "00000000",
                                    "data_type_code": "10",
                                    "seasonal": "S",
                                    "series_title": "Women employees",
                                    "data_type_text": "WOMEN EMPLOYEES"
                                },
                                {
                                    "series_id": "CES0000000025",
                                    "supersector_code": "0",
                                    "industry_code": "00000000",
                                    "data_type_code": "25",
                                    "seasonal": "S",
                                    "series_title": "All employees",
                                    "data_type_text": "ALL EMPLOYEES"
                                },
                                {
                                    "series_id": "CES0000000026",
                                    "supersector_code": "0",
                                    "industry_code": "00000000",
                                    "data_type_code": "26",
                                    "seasonal": "S",
                                    "series_title": "All employees",
                                    "data_type_text": "ALL EMPLOYEES"
                                },
                                {
                                    "series_id": "CES0500000001",
                                    "supersector_code": "5",
                                    "industry_code": "05000000",
                                    "data_type_code": "1",
                                    "seasonal": "S",
                                    "series_title": "All employees",
                                    "data_type_text": "ALL EMPLOYEES"
                                },
                                {
                                    "series_id": "CES0500000002",
                                    "supersector_code": "5",
                                    "industry_code": "05000000",
                                    "data_type_code": "2",
                                    "seasonal": "S",
                                    "series_title": "Average weekly hours of all employees",
                                    "data_type_text": "AVERAGE WEEKLY HOURS OF ALL EMPLOYEES"
                                },
                                {
                                    "series_id": "CES0500000003",
                                    "supersector_code": "5",
                                    "industry_code": "05000000",
                                    "data_type_code": "3",
                                    "seasonal": "S",
                                    "series_title": "Average hourly earnings of all employees",
                                    "data_type_text": "AVERAGE HOURLY EARNINGS OF ALL EMPLOYEES"
                                },
                                {
                                    "series_id": "CES0500000006",
                                    "supersector_code": "5",
                                    "industry_code": "05000000",
                                    "data_type_code": "6",
                                    "seasonal": "S",
                                    "series_title": "Production and nonsupervisory employees",
                                    "data_type_text": "PRODUCTION AND NONSUPERVISORY EMPLOYEES"
                                },
                                {
                                    "series_id": "CES0500000007",
                                    "supersector_code": "5",
                                    "industry_code": "05000000",
                                    "data_type_code": "7",
                                    "seasonal": "S",
                                    "series_title": "Average weekly hours of production and nonsupervisory employees",
                                    "data_type_text": "AVERAGE WEEKLY HOURS OF PRODUCTION AND NONSUPERVISORY EMPLOYEES"
                                },
                                {
                                    "series_id": "CES0500000008",
                                    "supersector_code": "5",
                                    "industry_code": "05000000",
                                    "data_type_code": "8",
                                    "seasonal": "S",
                                    "series_title": "Average hourly earnings of production and nonsupervisory employees",
                                    "data_type_text": "AVERAGE HOURLY EARNINGS OF PRODUCTION AND NONSUPERVISORY EMPLOYEES"
                                }
                            ]
                        },
                        "text/html": [
                            "<table>",
                            "<tr><th>series_id</th><th>supersector_code</th><th>industry_code</th><th>data_type_code</th><th>seasonal</th><th>series_title</th><th>data_type_code</th><th>data_type_text</th></tr>",
                            "<tr><td>CES0000000001</td><td>0</td><td>00000000</td><td>1</td><td>S</td><td>All employees</td><td>1</td><td>ALL EMPLOYEES</td></tr>",
                            "<tr><td>CES0000000010</td><td>0</td><td>00000000</td><td>10</td><td>S</td><td>Women employees</td><td>10</td><td>WOMEN EMPLOYEES</td></tr>",
                            "<tr><td>CES0000000025</td><td>0</td><td>00000000</td><td>25</td><td>S</td><td>All employees</td><td>25</td><td>ALL EMPLOYEES</td></tr>",
                            "<tr><td>CES0000000026</td><td>0</td><td>00000000</td><td>26</td><td>S</td><td>All employees</td><td>26</td><td>ALL EMPLOYEES</td></tr>",
                            "<tr><td>CES0500000001</td><td>5</td><td>05000000</td><td>1</td><td>S</td><td>All employees</td><td>1</td><td>ALL EMPLOYEES</td></tr>",
                            "<tr><td>CES0500000002</td><td>5</td><td>05000000</td><td>2</td><td>S</td><td>Average weekly hours of all employees</td><td>2</td><td>AVERAGE WEEKLY HOURS OF ALL EMPLOYEES</td></tr>",
                            "<tr><td>CES0500000003</td><td>5</td><td>05000000</td><td>3</td><td>S</td><td>Average hourly earnings of all employees</td><td>3</td><td>AVERAGE HOURLY EARNINGS OF ALL EMPLOYEES</td></tr>",
                            "<tr><td>CES0500000006</td><td>5</td><td>05000000</td><td>6</td><td>S</td><td>Production and nonsupervisory employees</td><td>6</td><td>PRODUCTION AND NONSUPERVISORY EMPLOYEES</td></tr>",
                            "<tr><td>CES0500000007</td><td>5</td><td>05000000</td><td>7</td><td>S</td><td>Average weekly hours of production and nonsupervisory employees</td><td>7</td><td>AVERAGE WEEKLY HOURS OF PRODUCTION AND NONSUPERVISORY EMPLOYEES</td></tr>",
                            "<tr><td>CES0500000008</td><td>5</td><td>05000000</td><td>8</td><td>S</td><td>Average hourly earnings of production and nonsupervisory employees</td><td>8</td><td>AVERAGE HOURLY EARNINGS OF PRODUCTION AND NONSUPERVISORY EMPLOYEES</td></tr>",
                            "</table>"
                        ]
                    }
                }
            ],
            "execution_count": 5
        },
        {
            "cell_type": "markdown",
            "source": [
                "3. <span style=\"background-color: rgb(255, 255, 255); font-size: 10pt; white-space: pre-wrap; color: rgb(102, 102, 102); font-family: Arvo, serif;\">Join series and industry on industry_code</span>"
            ],
            "metadata": {
                "azdata_cell_guid": "78ac8ba4-2a6a-426f-af30-6b56d9d09054"
            },
            "attachments": {}
        },
        {
            "cell_type": "code",
            "source": [
                "SELECT TOP 10 * FROM LaborStatisticsDB.dbo.series as s \n",
                "FULL JOIN LaborStatisticsDB.dbo.industry as i \n",
                "ON s.industry_code=i.industry_code"
            ],
            "metadata": {
                "azdata_cell_guid": "ac022766-e280-4d95-8362-1f2b18773662",
                "language": "sql"
            },
            "outputs": [
                {
                    "output_type": "display_data",
                    "data": {
                        "text/html": "(10 rows affected)"
                    },
                    "metadata": {}
                },
                {
                    "output_type": "display_data",
                    "data": {
                        "text/html": "Total execution time: 00:00:00.063"
                    },
                    "metadata": {}
                },
                {
                    "output_type": "execute_result",
                    "metadata": {},
                    "execution_count": 6,
                    "data": {
                        "application/vnd.dataresource+json": {
                            "schema": {
                                "fields": [
                                    {
                                        "name": "series_id"
                                    },
                                    {
                                        "name": "supersector_code"
                                    },
                                    {
                                        "name": "industry_code"
                                    },
                                    {
                                        "name": "data_type_code"
                                    },
                                    {
                                        "name": "seasonal"
                                    },
                                    {
                                        "name": "series_title"
                                    },
                                    {
                                        "name": "id"
                                    },
                                    {
                                        "name": "industry_code"
                                    },
                                    {
                                        "name": "naics_code"
                                    },
                                    {
                                        "name": "publishing_status"
                                    },
                                    {
                                        "name": "industry_name"
                                    },
                                    {
                                        "name": "display_level"
                                    },
                                    {
                                        "name": "selectable"
                                    },
                                    {
                                        "name": "sort_sequence"
                                    }
                                ]
                            },
                            "data": [
                                {
                                    "series_id": "CES0000000001",
                                    "supersector_code": "0",
                                    "industry_code": "0",
                                    "data_type_code": "1",
                                    "seasonal": "S",
                                    "series_title": "All employees",
                                    "id": "0",
                                    "naics_code": "-",
                                    "publishing_status": "B",
                                    "industry_name": "Total nonfarm",
                                    "display_level": "0",
                                    "selectable": "T",
                                    "sort_sequence": "1"
                                },
                                {
                                    "series_id": "CES0000000010",
                                    "supersector_code": "0",
                                    "industry_code": "0",
                                    "data_type_code": "10",
                                    "seasonal": "S",
                                    "series_title": "Women employees",
                                    "id": "0",
                                    "naics_code": "-",
                                    "publishing_status": "B",
                                    "industry_name": "Total nonfarm",
                                    "display_level": "0",
                                    "selectable": "T",
                                    "sort_sequence": "1"
                                },
                                {
                                    "series_id": "CES0000000025",
                                    "supersector_code": "0",
                                    "industry_code": "0",
                                    "data_type_code": "25",
                                    "seasonal": "S",
                                    "series_title": "All employees",
                                    "id": "0",
                                    "naics_code": "-",
                                    "publishing_status": "B",
                                    "industry_name": "Total nonfarm",
                                    "display_level": "0",
                                    "selectable": "T",
                                    "sort_sequence": "1"
                                },
                                {
                                    "series_id": "CES0000000026",
                                    "supersector_code": "0",
                                    "industry_code": "0",
                                    "data_type_code": "26",
                                    "seasonal": "S",
                                    "series_title": "All employees",
                                    "id": "0",
                                    "naics_code": "-",
                                    "publishing_status": "B",
                                    "industry_name": "Total nonfarm",
                                    "display_level": "0",
                                    "selectable": "T",
                                    "sort_sequence": "1"
                                },
                                {
                                    "series_id": "CES0500000001",
                                    "supersector_code": "5",
                                    "industry_code": "5000000",
                                    "data_type_code": "1",
                                    "seasonal": "S",
                                    "series_title": "All employees",
                                    "id": "1",
                                    "naics_code": "-",
                                    "publishing_status": "A",
                                    "industry_name": "Total private",
                                    "display_level": "1",
                                    "selectable": "T",
                                    "sort_sequence": "2"
                                },
                                {
                                    "series_id": "CES0500000002",
                                    "supersector_code": "5",
                                    "industry_code": "5000000",
                                    "data_type_code": "2",
                                    "seasonal": "S",
                                    "series_title": "Average weekly hours of all employees",
                                    "id": "1",
                                    "naics_code": "-",
                                    "publishing_status": "A",
                                    "industry_name": "Total private",
                                    "display_level": "1",
                                    "selectable": "T",
                                    "sort_sequence": "2"
                                },
                                {
                                    "series_id": "CES0500000003",
                                    "supersector_code": "5",
                                    "industry_code": "5000000",
                                    "data_type_code": "3",
                                    "seasonal": "S",
                                    "series_title": "Average hourly earnings of all employees",
                                    "id": "1",
                                    "naics_code": "-",
                                    "publishing_status": "A",
                                    "industry_name": "Total private",
                                    "display_level": "1",
                                    "selectable": "T",
                                    "sort_sequence": "2"
                                },
                                {
                                    "series_id": "CES0500000006",
                                    "supersector_code": "5",
                                    "industry_code": "5000000",
                                    "data_type_code": "6",
                                    "seasonal": "S",
                                    "series_title": "Production and nonsupervisory employees",
                                    "id": "1",
                                    "naics_code": "-",
                                    "publishing_status": "A",
                                    "industry_name": "Total private",
                                    "display_level": "1",
                                    "selectable": "T",
                                    "sort_sequence": "2"
                                },
                                {
                                    "series_id": "CES0500000007",
                                    "supersector_code": "5",
                                    "industry_code": "5000000",
                                    "data_type_code": "7",
                                    "seasonal": "S",
                                    "series_title": "Average weekly hours of production and nonsupervisory employees",
                                    "id": "1",
                                    "naics_code": "-",
                                    "publishing_status": "A",
                                    "industry_name": "Total private",
                                    "display_level": "1",
                                    "selectable": "T",
                                    "sort_sequence": "2"
                                },
                                {
                                    "series_id": "CES0500000008",
                                    "supersector_code": "5",
                                    "industry_code": "5000000",
                                    "data_type_code": "8",
                                    "seasonal": "S",
                                    "series_title": "Average hourly earnings of production and nonsupervisory employees",
                                    "id": "1",
                                    "naics_code": "-",
                                    "publishing_status": "A",
                                    "industry_name": "Total private",
                                    "display_level": "1",
                                    "selectable": "T",
                                    "sort_sequence": "2"
                                }
                            ]
                        },
                        "text/html": [
                            "<table>",
                            "<tr><th>series_id</th><th>supersector_code</th><th>industry_code</th><th>data_type_code</th><th>seasonal</th><th>series_title</th><th>id</th><th>industry_code</th><th>naics_code</th><th>publishing_status</th><th>industry_name</th><th>display_level</th><th>selectable</th><th>sort_sequence</th></tr>",
                            "<tr><td>CES0000000001</td><td>0</td><td>00000000</td><td>1</td><td>S</td><td>All employees</td><td>0</td><td>0</td><td>-</td><td>B</td><td>Total nonfarm</td><td>0</td><td>T</td><td>1</td></tr>",
                            "<tr><td>CES0000000010</td><td>0</td><td>00000000</td><td>10</td><td>S</td><td>Women employees</td><td>0</td><td>0</td><td>-</td><td>B</td><td>Total nonfarm</td><td>0</td><td>T</td><td>1</td></tr>",
                            "<tr><td>CES0000000025</td><td>0</td><td>00000000</td><td>25</td><td>S</td><td>All employees</td><td>0</td><td>0</td><td>-</td><td>B</td><td>Total nonfarm</td><td>0</td><td>T</td><td>1</td></tr>",
                            "<tr><td>CES0000000026</td><td>0</td><td>00000000</td><td>26</td><td>S</td><td>All employees</td><td>0</td><td>0</td><td>-</td><td>B</td><td>Total nonfarm</td><td>0</td><td>T</td><td>1</td></tr>",
                            "<tr><td>CES0500000001</td><td>5</td><td>05000000</td><td>1</td><td>S</td><td>All employees</td><td>1</td><td>5000000</td><td>-</td><td>A</td><td>Total private</td><td>1</td><td>T</td><td>2</td></tr>",
                            "<tr><td>CES0500000002</td><td>5</td><td>05000000</td><td>2</td><td>S</td><td>Average weekly hours of all employees</td><td>1</td><td>5000000</td><td>-</td><td>A</td><td>Total private</td><td>1</td><td>T</td><td>2</td></tr>",
                            "<tr><td>CES0500000003</td><td>5</td><td>05000000</td><td>3</td><td>S</td><td>Average hourly earnings of all employees</td><td>1</td><td>5000000</td><td>-</td><td>A</td><td>Total private</td><td>1</td><td>T</td><td>2</td></tr>",
                            "<tr><td>CES0500000006</td><td>5</td><td>05000000</td><td>6</td><td>S</td><td>Production and nonsupervisory employees</td><td>1</td><td>5000000</td><td>-</td><td>A</td><td>Total private</td><td>1</td><td>T</td><td>2</td></tr>",
                            "<tr><td>CES0500000007</td><td>5</td><td>05000000</td><td>7</td><td>S</td><td>Average weekly hours of production and nonsupervisory employees</td><td>1</td><td>5000000</td><td>-</td><td>A</td><td>Total private</td><td>1</td><td>T</td><td>2</td></tr>",
                            "<tr><td>CES0500000008</td><td>5</td><td>05000000</td><td>8</td><td>S</td><td>Average hourly earnings of production and nonsupervisory employees</td><td>1</td><td>5000000</td><td>-</td><td>A</td><td>Total private</td><td>1</td><td>T</td><td>2</td></tr>",
                            "</table>"
                        ]
                    }
                }
            ],
            "execution_count": 6
        },
        {
            "cell_type": "markdown",
            "source": [
                "## <span style=\"font-size: 12pt; font-family: Montserrat, sans-serif; color: rgb(53, 74, 95); background-color: rgb(255, 255, 255); font-weight: 700; font-variant-numeric: normal; font-variant-east-asian: normal; vertical-align: baseline; white-space: pre-wrap;\">Aggregate Your Friends and Code some SQL</span>\n",
                "\n",
                "<span style=\"font-size: 10pt; font-family: Arvo, serif; color: rgb(102, 102, 102); background-color: rgb(255, 255, 255); font-variant-numeric: normal; font-variant-east-asian: normal; vertical-align: baseline; white-space: pre-wrap;\">Put together the following:</span>\n",
                "\n",
                "1. <span style=\"background-color: rgb(255, 255, 255); font-size: 10pt; white-space: pre-wrap; color: rgb(102, 102, 102); font-family: Arvo, serif;\">How many employees were reported in 2016 in all industries? Round to the nearest whole number.&nbsp; No chopping people into little bits, please.</span>"
            ],
            "metadata": {
                "azdata_cell_guid": "f4290cc1-f824-4586-8850-59d926bf4460"
            },
            "attachments": {}
        },
        {
            "cell_type": "code",
            "source": [
                "SELECT ROUND(SUM(value),0) AS 'Total Employees Reported in 2016' FROM LaborStatisticsDB.dbo.annual_2016 "
            ],
            "metadata": {
                "azdata_cell_guid": "25099068-a629-4eb5-afca-ed3748c40605",
                "language": "sql"
            },
            "outputs": [
                {
                    "output_type": "display_data",
                    "data": {
                        "text/html": "(1 row affected)"
                    },
                    "metadata": {}
                },
                {
                    "output_type": "display_data",
                    "data": {
                        "text/html": "Total execution time: 00:00:00.108"
                    },
                    "metadata": {}
                },
                {
                    "output_type": "execute_result",
                    "execution_count": 7,
                    "data": {
                        "application/vnd.dataresource+json": {
                            "schema": {
                                "fields": [
                                    {
                                        "name": "Total Employees Reported in 2016"
                                    }
                                ]
                            },
                            "data": [
                                {
                                    "Total Employees Reported in 2016": "2351408916"
                                }
                            ]
                        },
                        "text/html": "<table><tr><th>Total Employees Reported in 2016</th></tr><tr><td>2351408916</td></tr></table>"
                    },
                    "metadata": {}
                }
            ],
            "execution_count": 7
        },
        {
            "cell_type": "markdown",
            "source": [
                "2. <span style=\"background-color: rgb(255, 255, 255); font-size: 10pt; white-space: pre-wrap; color: rgb(102, 102, 102); font-family: Arvo, serif;\">How many women employees were reported in 2016 in all industries? Round to the nearest whole number.&nbsp;</span>"
            ],
            "metadata": {
                "azdata_cell_guid": "6358fab4-b933-4646-bef1-4be66dcd4317"
            },
            "attachments": {}
        },
        {
            "cell_type": "code",
            "source": [
                "SELECT ROUND(SUM(value),0) AS 'Total Women Employees Reported in 2016' FROM LaborStatisticsDB.dbo.annual_2016 \n",
                "WHERE series_id IN (SELECT series_id FROM LaborStatisticsDB.dbo.series WHERE data_type_code=10)"
            ],
            "metadata": {
                "azdata_cell_guid": "7bb0bfb7-b9e3-4672-b354-7ca705bb0c3b",
                "language": "sql"
            },
            "outputs": [
                {
                    "output_type": "display_data",
                    "data": {
                        "text/html": "(1 row affected)"
                    },
                    "metadata": {}
                },
                {
                    "output_type": "display_data",
                    "data": {
                        "text/html": "Total execution time: 00:00:00.126"
                    },
                    "metadata": {}
                },
                {
                    "output_type": "execute_result",
                    "execution_count": 11,
                    "data": {
                        "application/vnd.dataresource+json": {
                            "schema": {
                                "fields": [
                                    {
                                        "name": "Total Women Employees Reported in 2016"
                                    }
                                ]
                            },
                            "data": [
                                {
                                    "Total Women Employees Reported in 2016": "1125490"
                                }
                            ]
                        },
                        "text/html": "<table><tr><th>Total Women Employees Reported in 2016</th></tr><tr><td>1125490</td></tr></table>"
                    },
                    "metadata": {}
                }
            ],
            "execution_count": 11
        },
        {
            "cell_type": "markdown",
            "source": [
                "3. <span style=\"background-color: rgb(255, 255, 255); font-size: 10pt; white-space: pre-wrap; color: rgb(102, 102, 102); font-family: Arvo, serif;\">How many production/nonsupervisory employees were reported in 2016? Round to the nearest whole number.&nbsp;</span>"
            ],
            "metadata": {
                "azdata_cell_guid": "246ea683-2075-4337-878d-fbfdd49b2dd7"
            },
            "attachments": {}
        },
        {
            "cell_type": "code",
            "source": [
                "SELECT * FROM LaborStatisticsDB.dbo.datatype WHERE data_type_text LIKE '%production%'"
            ],
            "metadata": {
                "language": "sql",
                "azdata_cell_guid": "ce170305-5988-4359-b097-8961939634e5"
            },
            "outputs": [
                {
                    "output_type": "display_data",
                    "data": {
                        "text/html": "(14 rows affected)"
                    },
                    "metadata": {}
                },
                {
                    "output_type": "display_data",
                    "data": {
                        "text/html": "Total execution time: 00:00:00.071"
                    },
                    "metadata": {}
                },
                {
                    "output_type": "execute_result",
                    "execution_count": 22,
                    "data": {
                        "application/vnd.dataresource+json": {
                            "schema": {
                                "fields": [
                                    {
                                        "name": "data_type_code"
                                    },
                                    {
                                        "name": "data_type_text"
                                    }
                                ]
                            },
                            "data": [
                                {
                                    "data_type_code": "6",
                                    "data_type_text": "PRODUCTION AND NONSUPERVISORY EMPLOYEES"
                                },
                                {
                                    "data_type_code": "7",
                                    "data_type_text": "AVERAGE WEEKLY HOURS OF PRODUCTION AND NONSUPERVISORY EMPLOYEES"
                                },
                                {
                                    "data_type_code": "8",
                                    "data_type_text": "AVERAGE HOURLY EARNINGS OF PRODUCTION AND NONSUPERVISORY EMPLOYEES"
                                },
                                {
                                    "data_type_code": "9",
                                    "data_type_text": "AVERAGE WEEKLY OVERTIME HOURS OF PRODUCTION AND NONSUPERVISORY EMPLOYEES"
                                },
                                {
                                    "data_type_code": "30",
                                    "data_type_text": "AVERAGE WEEKLY EARNINGS OF PRODUCTION AND NONSUPERVISORY EMPLOYEES"
                                },
                                {
                                    "data_type_code": "31",
                                    "data_type_text": "AVERAGE WEEKLY EARNINGS OF PRODUCTION AND NONSUPERVISORY EMPLOYEES"
                                },
                                {
                                    "data_type_code": "32",
                                    "data_type_text": "AVERAGE HOURLY EARNINGS OF PRODUCTION AND NONSUPERVISORY EMPLOYEES"
                                },
                                {
                                    "data_type_code": "33",
                                    "data_type_text": "AVERAGE HOURLY EARNINGS OF PRODUCTION AND NONSUPERVISORY EMPLOYEES"
                                },
                                {
                                    "data_type_code": "34",
                                    "data_type_text": "INDEXES OF AGGREGATE WEEKLY HOURS OF PRODUCTION AND NONSUPERVISORY EMPLOYEES"
                                },
                                {
                                    "data_type_code": "35",
                                    "data_type_text": "INDEXES OF AGGREGATE WEEKLY PAYROLLS OF PRODUCTION AND NONSUPERVISORY EMPLOYEES"
                                },
                                {
                                    "data_type_code": "38",
                                    "data_type_text": "PRODUCTION AND NONSUPERVISORY EMPLOYEES-TO-ALL EMPLOYEES RATIO"
                                },
                                {
                                    "data_type_code": "81",
                                    "data_type_text": "AGGREGATE WEEKLY HOURS OF PRODUCTION AND NONSUPERVISORY EMPLOYEES"
                                },
                                {
                                    "data_type_code": "82",
                                    "data_type_text": "AGGREGATE WEEKLY PAYROLLS OF PRODUCTION AND NONSUPERVISORY EMPLOYEES"
                                },
                                {
                                    "data_type_code": "83",
                                    "data_type_text": "AGGREGATE WEEKLY OVERTIME HOURS OF PRODUCTION AND NONSUPERVISORY EMPLOYEES"
                                }
                            ]
                        },
                        "text/html": "<table><tr><th>data_type_code</th><th>data_type_text</th></tr><tr><td>6</td><td>PRODUCTION AND NONSUPERVISORY EMPLOYEES</td></tr><tr><td>7</td><td>AVERAGE WEEKLY HOURS OF PRODUCTION AND NONSUPERVISORY EMPLOYEES</td></tr><tr><td>8</td><td>AVERAGE HOURLY EARNINGS OF PRODUCTION AND NONSUPERVISORY EMPLOYEES</td></tr><tr><td>9</td><td>AVERAGE WEEKLY OVERTIME HOURS OF PRODUCTION AND NONSUPERVISORY EMPLOYEES</td></tr><tr><td>30</td><td>AVERAGE WEEKLY EARNINGS OF PRODUCTION AND NONSUPERVISORY EMPLOYEES</td></tr><tr><td>31</td><td>AVERAGE WEEKLY EARNINGS OF PRODUCTION AND NONSUPERVISORY EMPLOYEES</td></tr><tr><td>32</td><td>AVERAGE HOURLY EARNINGS OF PRODUCTION AND NONSUPERVISORY EMPLOYEES</td></tr><tr><td>33</td><td>AVERAGE HOURLY EARNINGS OF PRODUCTION AND NONSUPERVISORY EMPLOYEES</td></tr><tr><td>34</td><td>INDEXES OF AGGREGATE WEEKLY HOURS OF PRODUCTION AND NONSUPERVISORY EMPLOYEES</td></tr><tr><td>35</td><td>INDEXES OF AGGREGATE WEEKLY PAYROLLS OF PRODUCTION AND NONSUPERVISORY EMPLOYEES</td></tr><tr><td>38</td><td>PRODUCTION AND NONSUPERVISORY EMPLOYEES-TO-ALL EMPLOYEES RATIO</td></tr><tr><td>81</td><td>AGGREGATE WEEKLY HOURS OF PRODUCTION AND NONSUPERVISORY EMPLOYEES</td></tr><tr><td>82</td><td>AGGREGATE WEEKLY PAYROLLS OF PRODUCTION AND NONSUPERVISORY EMPLOYEES</td></tr><tr><td>83</td><td>AGGREGATE WEEKLY OVERTIME HOURS OF PRODUCTION AND NONSUPERVISORY EMPLOYEES</td></tr></table>"
                    },
                    "metadata": {}
                }
            ],
            "execution_count": 22
        },
        {
            "cell_type": "code",
            "source": [
                "SELECT ROUND(SUM(value),0) AS 'Total Production/Nonsupervisory Employees Reported in 2016' FROM LaborStatisticsDB.dbo.annual_2016 \n",
                "WHERE series_id IN (SELECT series_id FROM LaborStatisticsDB.dbo.series WHERE data_type_code=6)"
            ],
            "metadata": {
                "language": "sql",
                "azdata_cell_guid": "404fd081-2a0a-4e1f-bf1c-b01a434f263f"
            },
            "outputs": [
                {
                    "output_type": "display_data",
                    "data": {
                        "text/html": "(1 row affected)"
                    },
                    "metadata": {}
                },
                {
                    "output_type": "display_data",
                    "data": {
                        "text/html": "Total execution time: 00:00:00.077"
                    },
                    "metadata": {}
                },
                {
                    "output_type": "execute_result",
                    "execution_count": 23,
                    "data": {
                        "application/vnd.dataresource+json": {
                            "schema": {
                                "fields": [
                                    {
                                        "name": "Total Production/Nonsupervisory Employees Reported in 2016"
                                    }
                                ]
                            },
                            "data": [
                                {
                                    "Total Production/Nonsupervisory Employees Reported in 2016": "1263650"
                                }
                            ]
                        },
                        "text/html": "<table><tr><th>Total Production/Nonsupervisory Employees Reported in 2016</th></tr><tr><td>1263650</td></tr></table>"
                    },
                    "metadata": {}
                }
            ],
            "execution_count": 23
        },
        {
            "cell_type": "markdown",
            "source": [
                "4. <span style=\"background-color: rgb(255, 255, 255); font-size: 10pt; white-space: pre-wrap; color: rgb(102, 102, 102); font-family: Arvo, serif;\">In January 2017, what is the average weekly hours worked by production and nonsupervisory employees across all industries?</span>"
            ],
            "metadata": {
                "azdata_cell_guid": "9caa7f57-e39d-4b7a-b705-25f8fe29d60b"
            },
            "attachments": {}
        },
        {
            "cell_type": "code",
            "source": [
                "SELECT * FROM LaborStatisticsDB.dbo.datatype WHERE data_type_text LIKE '%average weekly hours%'"
            ],
            "metadata": {
                "azdata_cell_guid": "9f07fa8a-4217-439a-a9cd-831240d4bc9e",
                "language": "sql"
            },
            "outputs": [
                {
                    "output_type": "display_data",
                    "data": {
                        "text/html": "(4 rows affected)"
                    },
                    "metadata": {}
                },
                {
                    "output_type": "display_data",
                    "data": {
                        "text/html": "Total execution time: 00:00:00.338"
                    },
                    "metadata": {}
                },
                {
                    "output_type": "execute_result",
                    "execution_count": 24,
                    "data": {
                        "application/vnd.dataresource+json": {
                            "schema": {
                                "fields": [
                                    {
                                        "name": "data_type_code"
                                    },
                                    {
                                        "name": "data_type_text"
                                    }
                                ]
                            },
                            "data": [
                                {
                                    "data_type_code": "2",
                                    "data_type_text": "AVERAGE WEEKLY HOURS OF ALL EMPLOYEES"
                                },
                                {
                                    "data_type_code": "7",
                                    "data_type_text": "AVERAGE WEEKLY HOURS OF PRODUCTION AND NONSUPERVISORY EMPLOYEES"
                                },
                                {
                                    "data_type_code": "19",
                                    "data_type_text": "AVERAGE WEEKLY HOURS OF ALL EMPLOYEES"
                                },
                                {
                                    "data_type_code": "36",
                                    "data_type_text": "AVERAGE WEEKLY HOURS"
                                }
                            ]
                        },
                        "text/html": "<table><tr><th>data_type_code</th><th>data_type_text</th></tr><tr><td>2</td><td>AVERAGE WEEKLY HOURS OF ALL EMPLOYEES</td></tr><tr><td>7</td><td>AVERAGE WEEKLY HOURS OF PRODUCTION AND NONSUPERVISORY EMPLOYEES</td></tr><tr><td>19</td><td>AVERAGE WEEKLY HOURS OF ALL EMPLOYEES</td></tr><tr><td>36</td><td>AVERAGE WEEKLY HOURS</td></tr></table>"
                    },
                    "metadata": {}
                }
            ],
            "execution_count": 24
        },
        {
            "cell_type": "code",
            "source": [
                "SELECT AVG(value) AS 'Average Weekly Hours Worked by Production and Nonsupervisory Employees in January 2017' FROM LaborStatisticsDB.dbo.january_2017\n",
                "WHERE series_id IN (SELECT series_id FROM LaborStatisticsDB.dbo.series WHERE data_type_code=7)"
            ],
            "metadata": {
                "language": "sql",
                "azdata_cell_guid": "1826aea2-de99-421c-b2f8-93f84ecc2a44",
                "tags": []
            },
            "outputs": [
                {
                    "output_type": "display_data",
                    "data": {
                        "text/html": "(1 row affected)"
                    },
                    "metadata": {}
                },
                {
                    "output_type": "display_data",
                    "data": {
                        "text/html": "Total execution time: 00:00:00.376"
                    },
                    "metadata": {}
                },
                {
                    "output_type": "execute_result",
                    "execution_count": 30,
                    "data": {
                        "application/vnd.dataresource+json": {
                            "schema": {
                                "fields": [
                                    {
                                        "name": "Average Weekly Hours Worked by Production and Nonsupervisory Employees in January 2017"
                                    }
                                ]
                            },
                            "data": [
                                {
                                    "Average Weekly Hours Worked by Production and Nonsupervisory Employees in January 2017": "36.05862068965521"
                                }
                            ]
                        },
                        "text/html": "<table><tr><th>Average Weekly Hours Worked by Production and Nonsupervisory Employees in January 2017</th></tr><tr><td>36.05862068965521</td></tr></table>"
                    },
                    "metadata": {}
                }
            ],
            "execution_count": 30
        },
        {
            "cell_type": "markdown",
            "source": [
                "5. <span style=\"background-color: rgb(255, 255, 255); font-size: 10pt; white-space: pre-wrap; color: rgb(102, 102, 102); font-family: Arvo, serif;\">What is the total weekly payroll for production and nonsupervisory employees across all industries in January 2017? Round to the nearest penny, please.</span>"
            ],
            "metadata": {
                "azdata_cell_guid": "9c48ff2e-a6eb-4f02-8df2-988e219fbc00"
            },
            "attachments": {}
        },
        {
            "cell_type": "code",
            "source": [
                "SELECT * FROM LaborStatisticsDB.dbo.datatype WHERE data_type_text LIKE '%weekly payroll%'"
            ],
            "metadata": {
                "azdata_cell_guid": "c565641b-f1fa-4dbb-9320-24adfda97ca5",
                "language": "sql"
            },
            "outputs": [
                {
                    "output_type": "display_data",
                    "data": {
                        "text/html": "(4 rows affected)"
                    },
                    "metadata": {}
                },
                {
                    "output_type": "display_data",
                    "data": {
                        "text/html": "Total execution time: 00:00:00.061"
                    },
                    "metadata": {}
                },
                {
                    "output_type": "execute_result",
                    "execution_count": 27,
                    "data": {
                        "application/vnd.dataresource+json": {
                            "schema": {
                                "fields": [
                                    {
                                        "name": "data_type_code"
                                    },
                                    {
                                        "name": "data_type_text"
                                    }
                                ]
                            },
                            "data": [
                                {
                                    "data_type_code": "17",
                                    "data_type_text": "INDEXES OF AGGREGATE WEEKLY PAYROLLS OF ALL EMPLOYEES"
                                },
                                {
                                    "data_type_code": "35",
                                    "data_type_text": "INDEXES OF AGGREGATE WEEKLY PAYROLLS OF PRODUCTION AND NONSUPERVISORY EMPLOYEES"
                                },
                                {
                                    "data_type_code": "57",
                                    "data_type_text": "AGGREGATE WEEKLY PAYROLLS OF ALL EMPLOYEES"
                                },
                                {
                                    "data_type_code": "82",
                                    "data_type_text": "AGGREGATE WEEKLY PAYROLLS OF PRODUCTION AND NONSUPERVISORY EMPLOYEES"
                                }
                            ]
                        },
                        "text/html": "<table><tr><th>data_type_code</th><th>data_type_text</th></tr><tr><td>17</td><td>INDEXES OF AGGREGATE WEEKLY PAYROLLS OF ALL EMPLOYEES</td></tr><tr><td>35</td><td>INDEXES OF AGGREGATE WEEKLY PAYROLLS OF PRODUCTION AND NONSUPERVISORY EMPLOYEES</td></tr><tr><td>57</td><td>AGGREGATE WEEKLY PAYROLLS OF ALL EMPLOYEES</td></tr><tr><td>82</td><td>AGGREGATE WEEKLY PAYROLLS OF PRODUCTION AND NONSUPERVISORY EMPLOYEES</td></tr></table>"
                    },
                    "metadata": {}
                }
            ],
            "execution_count": 27
        },
        {
            "cell_type": "code",
            "source": [
                "SELECT ROUND(SUM(value),2) AS 'Total Weekly Payroll for Production and Nonsupervisory Employees in January 2017' FROM LaborStatisticsDB.dbo.january_2017\n",
                "WHERE series_id IN (SELECT series_id FROM LaborStatisticsDB.dbo.series WHERE data_type_code=82)"
            ],
            "metadata": {
                "language": "sql",
                "azdata_cell_guid": "c1bca04e-025b-468f-928f-639b1db84d75"
            },
            "outputs": [
                {
                    "output_type": "display_data",
                    "data": {
                        "text/html": "(1 row affected)"
                    },
                    "metadata": {}
                },
                {
                    "output_type": "display_data",
                    "data": {
                        "text/html": "Total execution time: 00:00:00.099"
                    },
                    "metadata": {}
                },
                {
                    "output_type": "execute_result",
                    "execution_count": 31,
                    "data": {
                        "application/vnd.dataresource+json": {
                            "schema": {
                                "fields": [
                                    {
                                        "name": "Total Weekly Payroll for Production and Nonsupervisory Employees in January 2017"
                                    }
                                ]
                            },
                            "data": [
                                {
                                    "Total Weekly Payroll for Production and Nonsupervisory Employees in January 2017": "1838753220"
                                }
                            ]
                        },
                        "text/html": "<table><tr><th>Total Weekly Payroll for Production and Nonsupervisory Employees in January 2017</th></tr><tr><td>1838753220</td></tr></table>"
                    },
                    "metadata": {}
                }
            ],
            "execution_count": 31
        },
        {
            "cell_type": "markdown",
            "source": [
                "6. <span style=\"background-color: rgb(255, 255, 255); font-size: 10pt; white-space: pre-wrap; color: rgb(102, 102, 102); font-family: Arvo, serif;\">In January 2017, which industry was the average weekly hours worked by production and nonsupervisory employees the highest? Which industry was the lowest?</span>"
            ],
            "metadata": {
                "azdata_cell_guid": "862fd406-4fff-49bb-9d2b-232275a06405"
            },
            "attachments": {}
        },
        {
            "cell_type": "code",
            "source": [
                "SELECT TOP 5 MAX([value]), i.industry_name From LaborStatisticsDB.dbo.january_2017 as j \n",
                "FULL JOIN LaborStatisticsDB.dbo.series as s \n",
                "on j.series_id=s.series_id\n",
                "FULL JOIN LaborStatisticsDB.dbo.industry as i \n",
                "ON s.industry_code=i.industry_code\n",
                "where j.series_id IN (select s.series_id from LaborStatisticsDB.dbo.series WHERE s.data_type_code=7)\n",
                "GROUP BY i.industry_name\n",
                "ORDER BY MAX([value]) DESC"
            ],
            "metadata": {
                "language": "sql",
                "azdata_cell_guid": "3ce30bdd-9f1d-4cbe-bcd9-9baed76a64b8",
                "tags": []
            },
            "outputs": [
                {
                    "output_type": "display_data",
                    "data": {
                        "text/html": "(5 rows affected)"
                    },
                    "metadata": {}
                },
                {
                    "output_type": "display_data",
                    "data": {
                        "text/html": "Total execution time: 00:00:00.178"
                    },
                    "metadata": {}
                },
                {
                    "output_type": "execute_result",
                    "execution_count": 50,
                    "data": {
                        "application/vnd.dataresource+json": {
                            "schema": {
                                "fields": [
                                    {
                                        "name": "(No column name)"
                                    },
                                    {
                                        "name": "industry_name"
                                    }
                                ]
                            },
                            "data": [
                                {
                                    "(No column name)": "49.8",
                                    "industry_name": "Motor vehicle power train components"
                                },
                                {
                                    "(No column name)": "47.4",
                                    "industry_name": "NULL"
                                },
                                {
                                    "(No column name)": "47.3",
                                    "industry_name": "Crushed and broken limestone mining"
                                },
                                {
                                    "(No column name)": "47.3",
                                    "industry_name": "Support activities for mining"
                                },
                                {
                                    "(No column name)": "47.2",
                                    "industry_name": "Stone mining and quarrying"
                                }
                            ]
                        },
                        "text/html": "<table><tr><th>(No column name)</th><th>industry_name</th></tr><tr><td>49.8</td><td>Motor vehicle power train components</td></tr><tr><td>47.4</td><td>NULL</td></tr><tr><td>47.3</td><td>Crushed and broken limestone mining</td></tr><tr><td>47.3</td><td>Support activities for mining</td></tr><tr><td>47.2</td><td>Stone mining and quarrying</td></tr></table>"
                    },
                    "metadata": {}
                }
            ],
            "execution_count": 50
        },
        {
            "cell_type": "code",
            "source": [
                "SELECT TOP 5 MIN([value]), i.industry_name From LaborStatisticsDB.dbo.january_2017 as j \n",
                "FULL JOIN LaborStatisticsDB.dbo.series as s \n",
                "on j.series_id=s.series_id\n",
                "FULL JOIN LaborStatisticsDB.dbo.industry as i \n",
                "ON s.industry_code=i.industry_code\n",
                "where j.series_id IN (select s.series_id from LaborStatisticsDB.dbo.series WHERE s.data_type_code=7)\n",
                "GROUP BY i.industry_name\n",
                "ORDER BY MIN([value])"
            ],
            "metadata": {
                "language": "sql",
                "azdata_cell_guid": "7cc959b3-74df-401e-88b4-144232939bae",
                "tags": []
            },
            "outputs": [
                {
                    "output_type": "display_data",
                    "data": {
                        "text/html": "(5 rows affected)"
                    },
                    "metadata": {}
                },
                {
                    "output_type": "display_data",
                    "data": {
                        "text/html": "Total execution time: 00:00:00.203"
                    },
                    "metadata": {}
                },
                {
                    "output_type": "execute_result",
                    "execution_count": 51,
                    "data": {
                        "application/vnd.dataresource+json": {
                            "schema": {
                                "fields": [
                                    {
                                        "name": "(No column name)"
                                    },
                                    {
                                        "name": "industry_name"
                                    }
                                ]
                            },
                            "data": [
                                {
                                    "(No column name)": "16.7",
                                    "industry_name": "Fitness and recreational sports centers"
                                },
                                {
                                    "(No column name)": "17.8",
                                    "industry_name": "Family clothing stores"
                                },
                                {
                                    "(No column name)": "18.1",
                                    "industry_name": "Civic and social organizations"
                                },
                                {
                                    "(No column name)": "18.1",
                                    "industry_name": "Women's clothing stores"
                                },
                                {
                                    "(No column name)": "18.9",
                                    "industry_name": "Clothing stores"
                                }
                            ]
                        },
                        "text/html": "<table><tr><th>(No column name)</th><th>industry_name</th></tr><tr><td>16.7</td><td>Fitness and recreational sports centers</td></tr><tr><td>17.8</td><td>Family clothing stores</td></tr><tr><td>18.1</td><td>Civic and social organizations</td></tr><tr><td>18.1</td><td>Women&#39;s clothing stores</td></tr><tr><td>18.9</td><td>Clothing stores</td></tr></table>"
                    },
                    "metadata": {}
                }
            ],
            "execution_count": 51
        },
        {
            "cell_type": "markdown",
            "source": [
                "7. <span style=\"background-color: rgb(255, 255, 255); font-size: 10pt; white-space: pre-wrap; color: rgb(102, 102, 102); font-family: Arvo, serif;\">In January 2021, which industry was the total weekly payroll for production and nonsupervisory employees the highest? Which industry was the lowest?</span>"
            ],
            "metadata": {
                "azdata_cell_guid": "a53f4113-60c6-46d1-b9a3-34610c61d4f9"
            },
            "attachments": {}
        },
        {
            "cell_type": "code",
            "source": [
                "SELECT TOP 5 MAX([value]), i.industry_name From LaborStatisticsDB.dbo.january_2017 as j \n",
                "FULL JOIN LaborStatisticsDB.dbo.series as s \n",
                "on j.series_id=s.series_id\n",
                "FULL JOIN LaborStatisticsDB.dbo.industry as i \n",
                "ON s.industry_code=i.industry_code\n",
                "where j.series_id IN (select s.series_id from LaborStatisticsDB.dbo.series WHERE s.data_type_code=82)\n",
                "GROUP BY i.industry_name\n",
                "ORDER BY MAX([value]) DESC"
            ],
            "metadata": {
                "azdata_cell_guid": "583695e6-7438-4e03-8970-1fe0c677a793",
                "language": "sql"
            },
            "outputs": [
                {
                    "output_type": "display_data",
                    "data": {
                        "text/html": "(5 rows affected)"
                    },
                    "metadata": {}
                },
                {
                    "output_type": "display_data",
                    "data": {
                        "text/html": "Total execution time: 00:00:00.209"
                    },
                    "metadata": {}
                },
                {
                    "output_type": "execute_result",
                    "execution_count": 52,
                    "data": {
                        "application/vnd.dataresource+json": {
                            "schema": {
                                "fields": [
                                    {
                                        "name": "(No column name)"
                                    },
                                    {
                                        "name": "industry_name"
                                    }
                                ]
                            },
                            "data": [
                                {
                                    "(No column name)": "74498171",
                                    "industry_name": "Total private"
                                },
                                {
                                    "(No column name)": "60914722",
                                    "industry_name": "Private service-providing"
                                },
                                {
                                    "(No column name)": "15251268",
                                    "industry_name": "Professional and business services"
                                },
                                {
                                    "(No column name)": "14850661",
                                    "industry_name": "Trade"
                                },
                                {
                                    "(No column name)": "14816074",
                                    "industry_name": "Education and health services"
                                }
                            ]
                        },
                        "text/html": "<table><tr><th>(No column name)</th><th>industry_name</th></tr><tr><td>74498171</td><td>Total private</td></tr><tr><td>60914722</td><td>Private service-providing</td></tr><tr><td>15251268</td><td>Professional and business services</td></tr><tr><td>14850661</td><td>Trade</td></tr><tr><td>14816074</td><td>Education and health services</td></tr></table>"
                    },
                    "metadata": {}
                }
            ],
            "execution_count": 52
        },
        {
            "cell_type": "code",
            "source": [
                "SELECT TOP 5 MIN([value]), i.industry_name From LaborStatisticsDB.dbo.january_2017 as j \n",
                "FULL JOIN LaborStatisticsDB.dbo.series as s \n",
                "on j.series_id=s.series_id\n",
                "FULL JOIN LaborStatisticsDB.dbo.industry as i \n",
                "ON s.industry_code=i.industry_code\n",
                "where j.series_id IN (select s.series_id from LaborStatisticsDB.dbo.series WHERE s.data_type_code=82)\n",
                "GROUP BY i.industry_name\n",
                "ORDER BY MIN([value])"
            ],
            "metadata": {
                "language": "sql",
                "azdata_cell_guid": "3aa6e72a-926e-4169-94c6-dc63a346db82"
            },
            "outputs": [
                {
                    "output_type": "display_data",
                    "data": {
                        "text/html": "(5 rows affected)"
                    },
                    "metadata": {}
                },
                {
                    "output_type": "display_data",
                    "data": {
                        "text/html": "Total execution time: 00:00:00.172"
                    },
                    "metadata": {}
                },
                {
                    "output_type": "execute_result",
                    "execution_count": 53,
                    "data": {
                        "application/vnd.dataresource+json": {
                            "schema": {
                                "fields": [
                                    {
                                        "name": "(No column name)"
                                    },
                                    {
                                        "name": "industry_name"
                                    }
                                ]
                            },
                            "data": [
                                {
                                    "(No column name)": "10079",
                                    "industry_name": "Coin-operated laundries and drycleaners"
                                },
                                {
                                    "(No column name)": "10564",
                                    "industry_name": "Skiing facilities"
                                },
                                {
                                    "(No column name)": "11560",
                                    "industry_name": "Marinas"
                                },
                                {
                                    "(No column name)": "11598",
                                    "industry_name": "RV parks and recreational camps"
                                },
                                {
                                    "(No column name)": "11908",
                                    "industry_name": "Seafood product preparation and packaging"
                                }
                            ]
                        },
                        "text/html": "<table><tr><th>(No column name)</th><th>industry_name</th></tr><tr><td>10079</td><td>Coin-operated laundries and drycleaners</td></tr><tr><td>10564</td><td>Skiing facilities</td></tr><tr><td>11560</td><td>Marinas</td></tr><tr><td>11598</td><td>RV parks and recreational camps</td></tr><tr><td>11908</td><td>Seafood product preparation and packaging</td></tr></table>"
                    },
                    "metadata": {}
                }
            ],
            "execution_count": 53
        },
        {
            "cell_type": "markdown",
            "source": [
                "## <span style=\"font-size: 12pt; font-family: Montserrat, sans-serif; color: rgb(53, 74, 95); background-color: rgb(255, 255, 255); font-weight: 700; font-variant-numeric: normal; font-variant-east-asian: normal; vertical-align: baseline; white-space: pre-wrap;\">Subqueries, Unions, Derived Tables, Oh My!</span>\n",
                "\n",
                "1. <span style=\"background-color: rgb(255, 255, 255); font-size: 10pt; white-space: pre-wrap; color: rgb(102, 102, 102); font-family: Arvo, serif;\">Write a query that returns the series_id, industry_code, industry_name, and value from the january_2017 table but only if that value is greater than the average value for annual_2016 of data_type_code 82.</span>"
            ],
            "metadata": {
                "azdata_cell_guid": "e98ec195-5399-4718-83ef-54fb954662a5"
            },
            "attachments": {}
        },
        {
            "cell_type": "code",
            "source": [
                "SELECT DISTINCT s.series_id, i.industry_code, industry_name, j.[value] FROM LaborStatisticsDB.dbo.january_2017 AS j\n",
                "FULL JOIN LaborStatisticsDB.dbo.series AS s \n",
                "ON j.series_id=s.series_id\n",
                "FULL JOIN LaborStatisticsDB.dbo.industry AS i \n",
                "ON s.industry_code=i.industry_code\n",
                "WHERE j.series_id IN \n",
                "(\n",
                "    SELECT s.series_id FROM LaborStatisticsDB.dbo.series WHERE s.data_type_code=82\n",
                ")\n",
                "AND\n",
                "j.[value]> \n",
                "(\n",
                "    SELECT AVG(a.[value]) \n",
                "    FROM LaborStatisticsDB.dbo.annual_2016 AS a WHERE a.series_id IN \n",
                "    (\n",
                "        SELECT s.series_id \n",
                "        FROM LaborStatisticsDB.dbo.series AS s WHERE s.data_type_code=82\n",
                "    )\n",
                ")\n",
                "ORDER BY j.[value]"
            ],
            "metadata": {
                "azdata_cell_guid": "7c85f70b-528f-4cbd-bd8e-a6efab1c18df",
                "language": "sql",
                "tags": []
            },
            "outputs": [
                {
                    "output_type": "display_data",
                    "data": {
                        "text/html": "(147 rows affected)"
                    },
                    "metadata": {}
                },
                {
                    "output_type": "display_data",
                    "data": {
                        "text/html": "Total execution time: 00:00:00.200"
                    },
                    "metadata": {}
                },
                {
                    "output_type": "execute_result",
                    "execution_count": 98,
                    "data": {
                        "application/vnd.dataresource+json": {
                            "schema": {
                                "fields": [
                                    {
                                        "name": "series_id"
                                    },
                                    {
                                        "name": "industry_code"
                                    },
                                    {
                                        "name": "industry_name"
                                    },
                                    {
                                        "name": "value"
                                    }
                                ]
                            },
                            "data": [
                                {
                                    "series_id": "CES4244511082",
                                    "industry_code": "42445110",
                                    "industry_name": "Supermarkets and other grocery stores",
                                    "value": "821282"
                                },
                                {
                                    "series_id": "CES6562410082",
                                    "industry_code": "65624100",
                                    "industry_name": "Individual and family services",
                                    "value": "828771"
                                },
                                {
                                    "series_id": "CEU4244110082",
                                    "industry_code": "42441100",
                                    "industry_name": "Automobile dealers",
                                    "value": "831131"
                                },
                                {
                                    "series_id": "CES4142512082",
                                    "industry_code": "41425120",
                                    "industry_name": "Wholesale trade agents and brokers",
                                    "value": "831319"
                                },
                                {
                                    "series_id": "CEU6562410082",
                                    "industry_code": "65624100",
                                    "industry_name": "Individual and family services",
                                    "value": "838886"
                                },
                                {
                                    "series_id": "CES4244110082",
                                    "industry_code": "42441100",
                                    "industry_name": "Automobile dealers",
                                    "value": "839595"
                                },
                                {
                                    "series_id": "CEU3231100082",
                                    "industry_code": "32311000",
                                    "industry_name": "Food manufacturing",
                                    "value": "842201"
                                },
                                {
                                    "series_id": "CES6056170082",
                                    "industry_code": "60561700",
                                    "industry_name": "Services to buildings and dwellings",
                                    "value": "846000"
                                },
                                {
                                    "series_id": "CES3231100082",
                                    "industry_code": "32311000",
                                    "industry_name": "Food manufacturing",
                                    "value": "851406"
                                },
                                {
                                    "series_id": "CEU4142512082",
                                    "industry_code": "41425120",
                                    "industry_name": "Wholesale trade agents and brokers",
                                    "value": "851551"
                                },
                                {
                                    "series_id": "CES4142500082",
                                    "industry_code": "41425000",
                                    "industry_name": "Electronic markets and agents and brokers",
                                    "value": "855291"
                                },
                                {
                                    "series_id": "CEU4244510082",
                                    "industry_code": "42445100",
                                    "industry_name": "Grocery stores",
                                    "value": "861224"
                                },
                                {
                                    "series_id": "CES5553100082",
                                    "industry_code": "55531000",
                                    "industry_name": "Real estate",
                                    "value": "862987"
                                },
                                {
                                    "series_id": "CEU5553100082",
                                    "industry_code": "55531000",
                                    "industry_name": "Real estate",
                                    "value": "865620"
                                },
                                {
                                    "series_id": "CEU3133200082",
                                    "industry_code": "31332000",
                                    "industry_name": "Fabricated metal products",
                                    "value": "867242"
                                },
                                {
                                    "series_id": "CES4244510082",
                                    "industry_code": "42445100",
                                    "industry_name": "Grocery stores",
                                    "value": "868430"
                                },
                                {
                                    "series_id": "CES3133200082",
                                    "industry_code": "31332000",
                                    "industry_name": "Fabricated metal products",
                                    "value": "871298"
                                },
                                {
                                    "series_id": "CES5552420082",
                                    "industry_code": "55524200",
                                    "industry_name": "Insurance agencies",
                                    "value": "872398"
                                },
                                {
                                    "series_id": "CEU4142500082",
                                    "industry_code": "41425000",
                                    "industry_name": "Electronic markets and agents and brokers",
                                    "value": "873578"
                                },
                                {
                                    "series_id": "CEU5552420082",
                                    "industry_code": "55524200",
                                    "industry_name": "Insurance agencies",
                                    "value": "894878"
                                },
                                {
                                    "series_id": "CES2023700082",
                                    "industry_code": "20237000",
                                    "industry_name": "Heavy and civil engineering construction",
                                    "value": "908374"
                                },
                                {
                                    "series_id": "CEU7072251382",
                                    "industry_code": "70722513",
                                    "industry_name": "Limited-service restaurants",
                                    "value": "922041"
                                },
                                {
                                    "series_id": "CEU2023600082",
                                    "industry_code": "20236000",
                                    "industry_name": "Construction of buildings",
                                    "value": "940800"
                                },
                                {
                                    "series_id": "CEU4244500082",
                                    "industry_code": "42445000",
                                    "industry_name": "Food and beverage stores",
                                    "value": "963315"
                                },
                                {
                                    "series_id": "CES7072251382",
                                    "industry_code": "70722513",
                                    "industry_name": "Limited-service restaurants",
                                    "value": "969748"
                                },
                                {
                                    "series_id": "CES5552210082",
                                    "industry_code": "55522100",
                                    "industry_name": "Depository credit intermediation",
                                    "value": "971796"
                                },
                                {
                                    "series_id": "CES4244500082",
                                    "industry_code": "42445000",
                                    "industry_name": "Food and beverage stores",
                                    "value": "974710"
                                },
                                {
                                    "series_id": "CES6054111082",
                                    "industry_code": "60541110",
                                    "industry_name": "Offices of lawyers",
                                    "value": "1004009"
                                },
                                {
                                    "series_id": "CEU5552210082",
                                    "industry_code": "55522100",
                                    "industry_name": "Depository credit intermediation",
                                    "value": "1004069"
                                },
                                {
                                    "series_id": "CES2023600082",
                                    "industry_code": "20236000",
                                    "industry_name": "Construction of buildings",
                                    "value": "1008035"
                                },
                                {
                                    "series_id": "CEU6054111082",
                                    "industry_code": "60541110",
                                    "industry_name": "Offices of lawyers",
                                    "value": "1038464"
                                },
                                {
                                    "series_id": "CEU6054134082",
                                    "industry_code": "60541340",
                                    "industry_name": "NULL",
                                    "value": "1042223"
                                },
                                {
                                    "series_id": "CES5552300082",
                                    "industry_code": "55523000",
                                    "industry_name": "NULL",
                                    "value": "1044224"
                                },
                                {
                                    "series_id": "CEU4245200082",
                                    "industry_code": "42452000",
                                    "industry_name": "General merchandise stores",
                                    "value": "1049973"
                                },
                                {
                                    "series_id": "CES6054134082",
                                    "industry_code": "60541340",
                                    "industry_name": "NULL",
                                    "value": "1051499"
                                },
                                {
                                    "series_id": "CES6054161082",
                                    "industry_code": "60541610",
                                    "industry_name": "Management consulting services",
                                    "value": "1053691"
                                },
                                {
                                    "series_id": "CES6054110082",
                                    "industry_code": "60541100",
                                    "industry_name": "Legal services",
                                    "value": "1058862"
                                },
                                {
                                    "series_id": "CES4245200082",
                                    "industry_code": "42452000",
                                    "industry_name": "General merchandise stores",
                                    "value": "1065807"
                                },
                                {
                                    "series_id": "CEU6054161082",
                                    "industry_code": "60541610",
                                    "industry_name": "Management consulting services",
                                    "value": "1066602"
                                },
                                {
                                    "series_id": "CEU5552300082",
                                    "industry_code": "55523000",
                                    "industry_name": "NULL",
                                    "value": "1087325"
                                },
                                {
                                    "series_id": "CEU4348400082",
                                    "industry_code": "43484000",
                                    "industry_name": "Truck transportation",
                                    "value": "1092427"
                                },
                                {
                                    "series_id": "CEU6054110082",
                                    "industry_code": "60541100",
                                    "industry_name": "Legal services",
                                    "value": "1093898"
                                },
                                {
                                    "series_id": "CES4348400082",
                                    "industry_code": "43484000",
                                    "industry_name": "Truck transportation",
                                    "value": "1131821"
                                },
                                {
                                    "series_id": "CEU4244100082",
                                    "industry_code": "42441000",
                                    "industry_name": "Motor vehicle and parts dealers",
                                    "value": "1163420"
                                },
                                {
                                    "series_id": "CES6054151182",
                                    "industry_code": "60541511",
                                    "industry_name": "Custom computer programming services",
                                    "value": "1173494"
                                },
                                {
                                    "series_id": "CES4244100082",
                                    "industry_code": "42441000",
                                    "industry_name": "Motor vehicle and parts dealers",
                                    "value": "1180297"
                                },
                                {
                                    "series_id": "CEU6054151182",
                                    "industry_code": "60541511",
                                    "industry_name": "Custom computer programming services",
                                    "value": "1198283"
                                },
                                {
                                    "series_id": "CEU3133600082",
                                    "industry_code": "31336000",
                                    "industry_name": "Transportation equipment",
                                    "value": "1242685"
                                },
                                {
                                    "series_id": "CES3133600082",
                                    "industry_code": "31336000",
                                    "industry_name": "Transportation equipment",
                                    "value": "1257764"
                                },
                                {
                                    "series_id": "CES6054151282",
                                    "industry_code": "60541512",
                                    "industry_name": "Computer systems design services",
                                    "value": "1274481"
                                },
                                {
                                    "series_id": "CEU6054151282",
                                    "industry_code": "60541512",
                                    "industry_name": "Computer systems design services",
                                    "value": "1309441"
                                },
                                {
                                    "series_id": "CES6054160082",
                                    "industry_code": "60541600",
                                    "industry_name": "Management and technical consulting services",
                                    "value": "1330587"
                                },
                                {
                                    "series_id": "CEU6054160082",
                                    "industry_code": "60541600",
                                    "industry_name": "Management and technical consulting services",
                                    "value": "1336594"
                                },
                                {
                                    "series_id": "CES6562400082",
                                    "industry_code": "65624000",
                                    "industry_name": "Social assistance",
                                    "value": "1337022"
                                },
                                {
                                    "series_id": "CEU4142400082",
                                    "industry_code": "41424000",
                                    "industry_name": "Nondurable goods",
                                    "value": "1348136"
                                },
                                {
                                    "series_id": "CEU6562400082",
                                    "industry_code": "65624000",
                                    "industry_name": "Social assistance",
                                    "value": "1357629"
                                },
                                {
                                    "series_id": "CES4142400082",
                                    "industry_code": "41424000",
                                    "industry_name": "Nondurable goods",
                                    "value": "1367413"
                                },
                                {
                                    "series_id": "CEU6054130082",
                                    "industry_code": "60541300",
                                    "industry_name": "Architectural and engineering services",
                                    "value": "1422967"
                                },
                                {
                                    "series_id": "CES6054130082",
                                    "industry_code": "60541300",
                                    "industry_name": "Architectural and engineering services",
                                    "value": "1439445"
                                },
                                {
                                    "series_id": "CES5552410082",
                                    "industry_code": "55524100",
                                    "industry_name": "Insurance carriers",
                                    "value": "1477799"
                                },
                                {
                                    "series_id": "CES6562300082",
                                    "industry_code": "65623000",
                                    "industry_name": "Nursing and residential care facilities",
                                    "value": "1489277"
                                },
                                {
                                    "series_id": "CES6055111482",
                                    "industry_code": "60551114",
                                    "industry_name": "Managing offices",
                                    "value": "1496334"
                                },
                                {
                                    "series_id": "CEU5552410082",
                                    "industry_code": "55524100",
                                    "industry_name": "Insurance carriers",
                                    "value": "1509979"
                                },
                                {
                                    "series_id": "CEU6055111482",
                                    "industry_code": "60551114",
                                    "industry_name": "Managing offices",
                                    "value": "1517287"
                                },
                                {
                                    "series_id": "CEU6562300082",
                                    "industry_code": "65623000",
                                    "industry_name": "Nursing and residential care facilities",
                                    "value": "1525889"
                                },
                                {
                                    "series_id": "CEU7072251182",
                                    "industry_code": "70722511",
                                    "industry_name": "Full-service restaurants",
                                    "value": "1528888"
                                },
                                {
                                    "series_id": "CEU6056132082",
                                    "industry_code": "60561320",
                                    "industry_name": "Temporary help services",
                                    "value": "1530782"
                                },
                                {
                                    "series_id": "CES6055000082",
                                    "industry_code": "60550000",
                                    "industry_name": "Management of companies and enterprises",
                                    "value": "1566036"
                                },
                                {
                                    "series_id": "CEU6055000082",
                                    "industry_code": "60550000",
                                    "industry_name": "Management of companies and enterprises",
                                    "value": "1587677"
                                },
                                {
                                    "series_id": "CEU8081300082",
                                    "industry_code": "80813000",
                                    "industry_name": "Membership associations and organizations",
                                    "value": "1594855"
                                },
                                {
                                    "series_id": "CES6056132082",
                                    "industry_code": "60561320",
                                    "industry_name": "Temporary help services",
                                    "value": "1598939"
                                },
                                {
                                    "series_id": "CES8081300082",
                                    "industry_code": "80813000",
                                    "industry_name": "Membership associations and organizations",
                                    "value": "1599916"
                                },
                                {
                                    "series_id": "CEU2023820082",
                                    "industry_code": "20238200",
                                    "industry_name": "Building equipment contractors",
                                    "value": "1621266"
                                },
                                {
                                    "series_id": "CES7072251182",
                                    "industry_code": "70722511",
                                    "industry_name": "Full-service restaurants",
                                    "value": "1626780"
                                },
                                {
                                    "series_id": "CES2023820082",
                                    "industry_code": "20238200",
                                    "industry_name": "Building equipment contractors",
                                    "value": "1696080"
                                },
                                {
                                    "series_id": "CES5552200082",
                                    "industry_code": "55522000",
                                    "industry_name": "Credit intermediation and related activities",
                                    "value": "1717912"
                                },
                                {
                                    "series_id": "CEU5552200082",
                                    "industry_code": "55522000",
                                    "industry_name": "Credit intermediation and related activities",
                                    "value": "1767137"
                                },
                                {
                                    "series_id": "CEU6056130082",
                                    "industry_code": "60561300",
                                    "industry_name": "Employment services",
                                    "value": "1938059"
                                },
                                {
                                    "series_id": "CES6056130082",
                                    "industry_code": "60561300",
                                    "industry_name": "Employment services",
                                    "value": "2013846"
                                },
                                {
                                    "series_id": "CES6562111182",
                                    "industry_code": "65621111",
                                    "industry_name": "Offices of physicians",
                                    "value": "2113086"
                                },
                                {
                                    "series_id": "CEU6562111182",
                                    "industry_code": "65621111",
                                    "industry_name": "Offices of physicians",
                                    "value": "2121845"
                                },
                                {
                                    "series_id": "CES6562110082",
                                    "industry_code": "65621100",
                                    "industry_name": "Offices of physicians",
                                    "value": "2141331"
                                },
                                {
                                    "series_id": "CEU6562110082",
                                    "industry_code": "65621100",
                                    "industry_name": "Offices of physicians",
                                    "value": "2149121"
                                },
                                {
                                    "series_id": "CES4142300082",
                                    "industry_code": "41423000",
                                    "industry_name": "Durable goods",
                                    "value": "2261006"
                                },
                                {
                                    "series_id": "CEU4142300082",
                                    "industry_code": "41423000",
                                    "industry_name": "Durable goods",
                                    "value": "2283094"
                                },
                                {
                                    "series_id": "CES5552400082",
                                    "industry_code": "55524000",
                                    "industry_name": "Insurance carriers and related activities",
                                    "value": "2347328"
                                },
                                {
                                    "series_id": "CEU5552400082",
                                    "industry_code": "55524000",
                                    "industry_name": "Insurance carriers and related activities",
                                    "value": "2408490"
                                },
                                {
                                    "series_id": "CES5000000082",
                                    "industry_code": "50000000",
                                    "industry_name": "Information",
                                    "value": "2416443"
                                },
                                {
                                    "series_id": "CEU5000000082",
                                    "industry_code": "50000000",
                                    "industry_name": "Information",
                                    "value": "2434992"
                                },
                                {
                                    "series_id": "CEU3200000082",
                                    "industry_code": "32000000",
                                    "industry_name": "Nondurable goods",
                                    "value": "2605069"
                                },
                                {
                                    "series_id": "CEU7072250082",
                                    "industry_code": "70722500",
                                    "industry_name": "Restaurants and other eating places",
                                    "value": "2617225"
                                },
                                {
                                    "series_id": "CES3200000082",
                                    "industry_code": "32000000",
                                    "industry_name": "Nondurable goods",
                                    "value": "2633628"
                                },
                                {
                                    "series_id": "CES6054150082",
                                    "industry_code": "60541500",
                                    "industry_name": "Computer systems design and related services",
                                    "value": "2666568"
                                },
                                {
                                    "series_id": "CEU6054150082",
                                    "industry_code": "60541500",
                                    "industry_name": "Computer systems design and related services",
                                    "value": "2725031"
                                },
                                {
                                    "series_id": "CES7072250082",
                                    "industry_code": "70722500",
                                    "industry_name": "Restaurants and other eating places",
                                    "value": "2768855"
                                },
                                {
                                    "series_id": "CEU8000000082",
                                    "industry_code": "80000000",
                                    "industry_name": "Other services",
                                    "value": "2836698"
                                },
                                {
                                    "series_id": "CES8000000082",
                                    "industry_code": "80000000",
                                    "industry_name": "Other services",
                                    "value": "2875314"
                                },
                                {
                                    "series_id": "CEU7072200082",
                                    "industry_code": "70722000",
                                    "industry_name": "Food services and drinking places",
                                    "value": "2913295"
                                },
                                {
                                    "series_id": "CEU2023800082",
                                    "industry_code": "20238000",
                                    "industry_name": "Specialty trade contractors",
                                    "value": "3062211"
                                },
                                {
                                    "series_id": "CES7072200082",
                                    "industry_code": "70722000",
                                    "industry_name": "Food services and drinking places",
                                    "value": "3085429"
                                },
                                {
                                    "series_id": "CES2023800082",
                                    "industry_code": "20238000",
                                    "industry_name": "Specialty trade contractors",
                                    "value": "3421902"
                                },
                                {
                                    "series_id": "CEU4300000082",
                                    "industry_code": "43000000",
                                    "industry_name": "Transportation and warehousing",
                                    "value": "3495553"
                                },
                                {
                                    "series_id": "CES4300000082",
                                    "industry_code": "43000000",
                                    "industry_name": "Transportation and warehousing",
                                    "value": "3538683"
                                },
                                {
                                    "series_id": "CEU7072000082",
                                    "industry_code": "70720000",
                                    "industry_name": "Accommodation and food services",
                                    "value": "3572648"
                                },
                                {
                                    "series_id": "CES7072000082",
                                    "industry_code": "70720000",
                                    "industry_name": "Accommodation and food services",
                                    "value": "3802356"
                                },
                                {
                                    "series_id": "CEU7000000082",
                                    "industry_code": "70000000",
                                    "industry_name": "Leisure and hospitality",
                                    "value": "4224098"
                                },
                                {
                                    "series_id": "CEU6056100082",
                                    "industry_code": "60561000",
                                    "industry_name": "Administrative and support services",
                                    "value": "4357866"
                                },
                                {
                                    "series_id": "CES4142000082",
                                    "industry_code": "41420000",
                                    "industry_name": "Wholesale trade",
                                    "value": "4480134"
                                },
                                {
                                    "series_id": "CEU4142000082",
                                    "industry_code": "41420000",
                                    "industry_name": "Wholesale trade",
                                    "value": "4506110"
                                },
                                {
                                    "series_id": "CES7000000082",
                                    "industry_code": "70000000",
                                    "industry_name": "Leisure and hospitality",
                                    "value": "4537173"
                                },
                                {
                                    "series_id": "CES6056100082",
                                    "industry_code": "60561000",
                                    "industry_name": "Administrative and support services",
                                    "value": "4565569"
                                },
                                {
                                    "series_id": "CEU6056000082",
                                    "industry_code": "60560000",
                                    "industry_name": "Administrative and waste services",
                                    "value": "4659531"
                                },
                                {
                                    "series_id": "CES6562210082",
                                    "industry_code": "65622100",
                                    "industry_name": "General medical and surgical hospitals",
                                    "value": "4716914"
                                },
                                {
                                    "series_id": "CEU2000000082",
                                    "industry_code": "20000000",
                                    "industry_name": "Construction",
                                    "value": "4724156"
                                },
                                {
                                    "series_id": "CEU6562210082",
                                    "industry_code": "65622100",
                                    "industry_name": "General medical and surgical hospitals",
                                    "value": "4773547"
                                },
                                {
                                    "series_id": "CEU3100000082",
                                    "industry_code": "31000000",
                                    "industry_name": "Durable goods",
                                    "value": "4808368"
                                },
                                {
                                    "series_id": "CES3100000082",
                                    "industry_code": "31000000",
                                    "industry_name": "Durable goods",
                                    "value": "4859716"
                                },
                                {
                                    "series_id": "CES6562100082",
                                    "industry_code": "65621000",
                                    "industry_name": "Ambulatory health care services",
                                    "value": "4875906"
                                },
                                {
                                    "series_id": "CES6056000082",
                                    "industry_code": "60560000",
                                    "industry_name": "Administrative and waste services",
                                    "value": "4886085"
                                },
                                {
                                    "series_id": "CEU6562100082",
                                    "industry_code": "65621000",
                                    "industry_name": "Ambulatory health care services",
                                    "value": "4907269"
                                },
                                {
                                    "series_id": "CES6562200082",
                                    "industry_code": "65622000",
                                    "industry_name": "Hospitals",
                                    "value": "5048432"
                                },
                                {
                                    "series_id": "CEU6562200082",
                                    "industry_code": "65622000",
                                    "industry_name": "Hospitals",
                                    "value": "5105336"
                                },
                                {
                                    "series_id": "CES2000000082",
                                    "industry_code": "20000000",
                                    "industry_name": "Construction",
                                    "value": "5335274"
                                },
                                {
                                    "series_id": "CEU4200000082",
                                    "industry_code": "42000000",
                                    "industry_name": "Retail trade",
                                    "value": "6060100"
                                },
                                {
                                    "series_id": "CES4200000082",
                                    "industry_code": "42000000",
                                    "industry_name": "Retail trade",
                                    "value": "6123554"
                                },
                                {
                                    "series_id": "CES5500000082",
                                    "industry_code": "55000000",
                                    "industry_name": "Financial activities",
                                    "value": "6328968"
                                },
                                {
                                    "series_id": "CEU5500000082",
                                    "industry_code": "55000000",
                                    "industry_name": "Financial activities",
                                    "value": "6467426"
                                },
                                {
                                    "series_id": "CEU3000000082",
                                    "industry_code": "30000000",
                                    "industry_name": "Manufacturing",
                                    "value": "7411960"
                                },
                                {
                                    "series_id": "CES3000000082",
                                    "industry_code": "30000000",
                                    "industry_name": "Manufacturing",
                                    "value": "7491723"
                                },
                                {
                                    "series_id": "CES6054000082",
                                    "industry_code": "60540000",
                                    "industry_name": "Professional and technical services",
                                    "value": "8821026"
                                },
                                {
                                    "series_id": "CEU6054000082",
                                    "industry_code": "60540000",
                                    "industry_name": "Professional and technical services",
                                    "value": "8976687"
                                },
                                {
                                    "series_id": "CES6562000182",
                                    "industry_code": "65620001",
                                    "industry_name": "NULL",
                                    "value": "11413008"
                                },
                                {
                                    "series_id": "CEU6562000182",
                                    "industry_code": "65620001",
                                    "industry_name": "NULL",
                                    "value": "11537267"
                                },
                                {
                                    "series_id": "CEU0600000082",
                                    "industry_code": "6000000",
                                    "industry_name": "Goods-producing",
                                    "value": "12711945"
                                },
                                {
                                    "series_id": "CES6562000082",
                                    "industry_code": "65620000",
                                    "industry_name": "Health care and social assistance",
                                    "value": "12762526"
                                },
                                {
                                    "series_id": "CEU6562000082",
                                    "industry_code": "65620000",
                                    "industry_name": "Health care and social assistance",
                                    "value": "12878462"
                                },
                                {
                                    "series_id": "CES0600000082",
                                    "industry_code": "6000000",
                                    "industry_name": "Goods-producing",
                                    "value": "13426820"
                                },
                                {
                                    "series_id": "CEU4000000082",
                                    "industry_code": "40000000",
                                    "industry_name": "Trade",
                                    "value": "14732108"
                                },
                                {
                                    "series_id": "CES6500000082",
                                    "industry_code": "65000000",
                                    "industry_name": "Education and health services",
                                    "value": "14765156"
                                },
                                {
                                    "series_id": "CEU6500000082",
                                    "industry_code": "65000000",
                                    "industry_name": "Education and health services",
                                    "value": "14816074"
                                },
                                {
                                    "series_id": "CES4000000082",
                                    "industry_code": "40000000",
                                    "industry_name": "Trade",
                                    "value": "14850661"
                                },
                                {
                                    "series_id": "CEU6000000082",
                                    "industry_code": "60000000",
                                    "industry_name": "Professional and business services",
                                    "value": "15219807"
                                },
                                {
                                    "series_id": "CES6000000082",
                                    "industry_code": "60000000",
                                    "industry_name": "Professional and business services",
                                    "value": "15251268"
                                },
                                {
                                    "series_id": "CEU0800000082",
                                    "industry_code": "8000000",
                                    "industry_name": "Private service-providing",
                                    "value": "60807771"
                                },
                                {
                                    "series_id": "CES0800000082",
                                    "industry_code": "8000000",
                                    "industry_name": "Private service-providing",
                                    "value": "60914722"
                                },
                                {
                                    "series_id": "CEU0500000082",
                                    "industry_code": "5000000",
                                    "industry_name": "Total private",
                                    "value": "73474302"
                                },
                                {
                                    "series_id": "CES0500000082",
                                    "industry_code": "5000000",
                                    "industry_name": "Total private",
                                    "value": "74498171"
                                }
                            ]
                        },
                        "text/html": "<table><tr><th>series_id</th><th>industry_code</th><th>industry_name</th><th>value</th></tr><tr><td>CES4244511082</td><td>42445110</td><td>Supermarkets and other grocery stores</td><td>821282</td></tr><tr><td>CES6562410082</td><td>65624100</td><td>Individual and family services</td><td>828771</td></tr><tr><td>CEU4244110082</td><td>42441100</td><td>Automobile dealers</td><td>831131</td></tr><tr><td>CES4142512082</td><td>41425120</td><td>Wholesale trade agents and brokers</td><td>831319</td></tr><tr><td>CEU6562410082</td><td>65624100</td><td>Individual and family services</td><td>838886</td></tr><tr><td>CES4244110082</td><td>42441100</td><td>Automobile dealers</td><td>839595</td></tr><tr><td>CEU3231100082</td><td>32311000</td><td>Food manufacturing</td><td>842201</td></tr><tr><td>CES6056170082</td><td>60561700</td><td>Services to buildings and dwellings</td><td>846000</td></tr><tr><td>CES3231100082</td><td>32311000</td><td>Food manufacturing</td><td>851406</td></tr><tr><td>CEU4142512082</td><td>41425120</td><td>Wholesale trade agents and brokers</td><td>851551</td></tr><tr><td>CES4142500082</td><td>41425000</td><td>Electronic markets and agents and brokers</td><td>855291</td></tr><tr><td>CEU4244510082</td><td>42445100</td><td>Grocery stores</td><td>861224</td></tr><tr><td>CES5553100082</td><td>55531000</td><td>Real estate</td><td>862987</td></tr><tr><td>CEU5553100082</td><td>55531000</td><td>Real estate</td><td>865620</td></tr><tr><td>CEU3133200082</td><td>31332000</td><td>Fabricated metal products</td><td>867242</td></tr><tr><td>CES4244510082</td><td>42445100</td><td>Grocery stores</td><td>868430</td></tr><tr><td>CES3133200082</td><td>31332000</td><td>Fabricated metal products</td><td>871298</td></tr><tr><td>CES5552420082</td><td>55524200</td><td>Insurance agencies</td><td>872398</td></tr><tr><td>CEU4142500082</td><td>41425000</td><td>Electronic markets and agents and brokers</td><td>873578</td></tr><tr><td>CEU5552420082</td><td>55524200</td><td>Insurance agencies</td><td>894878</td></tr><tr><td>CES2023700082</td><td>20237000</td><td>Heavy and civil engineering construction</td><td>908374</td></tr><tr><td>CEU7072251382</td><td>70722513</td><td>Limited-service restaurants</td><td>922041</td></tr><tr><td>CEU2023600082</td><td>20236000</td><td>Construction of buildings</td><td>940800</td></tr><tr><td>CEU4244500082</td><td>42445000</td><td>Food and beverage stores</td><td>963315</td></tr><tr><td>CES7072251382</td><td>70722513</td><td>Limited-service restaurants</td><td>969748</td></tr><tr><td>CES5552210082</td><td>55522100</td><td>Depository credit intermediation</td><td>971796</td></tr><tr><td>CES4244500082</td><td>42445000</td><td>Food and beverage stores</td><td>974710</td></tr><tr><td>CES6054111082</td><td>60541110</td><td>Offices of lawyers</td><td>1004009</td></tr><tr><td>CEU5552210082</td><td>55522100</td><td>Depository credit intermediation</td><td>1004069</td></tr><tr><td>CES2023600082</td><td>20236000</td><td>Construction of buildings</td><td>1008035</td></tr><tr><td>CEU6054111082</td><td>60541110</td><td>Offices of lawyers</td><td>1038464</td></tr><tr><td>CEU6054134082</td><td>60541340</td><td>NULL</td><td>1042223</td></tr><tr><td>CES5552300082</td><td>55523000</td><td>NULL</td><td>1044224</td></tr><tr><td>CEU4245200082</td><td>42452000</td><td>General merchandise stores</td><td>1049973</td></tr><tr><td>CES6054134082</td><td>60541340</td><td>NULL</td><td>1051499</td></tr><tr><td>CES6054161082</td><td>60541610</td><td>Management consulting services</td><td>1053691</td></tr><tr><td>CES6054110082</td><td>60541100</td><td>Legal services</td><td>1058862</td></tr><tr><td>CES4245200082</td><td>42452000</td><td>General merchandise stores</td><td>1065807</td></tr><tr><td>CEU6054161082</td><td>60541610</td><td>Management consulting services</td><td>1066602</td></tr><tr><td>CEU5552300082</td><td>55523000</td><td>NULL</td><td>1087325</td></tr><tr><td>CEU4348400082</td><td>43484000</td><td>Truck transportation</td><td>1092427</td></tr><tr><td>CEU6054110082</td><td>60541100</td><td>Legal services</td><td>1093898</td></tr><tr><td>CES4348400082</td><td>43484000</td><td>Truck transportation</td><td>1131821</td></tr><tr><td>CEU4244100082</td><td>42441000</td><td>Motor vehicle and parts dealers</td><td>1163420</td></tr><tr><td>CES6054151182</td><td>60541511</td><td>Custom computer programming services</td><td>1173494</td></tr><tr><td>CES4244100082</td><td>42441000</td><td>Motor vehicle and parts dealers</td><td>1180297</td></tr><tr><td>CEU6054151182</td><td>60541511</td><td>Custom computer programming services</td><td>1198283</td></tr><tr><td>CEU3133600082</td><td>31336000</td><td>Transportation equipment</td><td>1242685</td></tr><tr><td>CES3133600082</td><td>31336000</td><td>Transportation equipment</td><td>1257764</td></tr><tr><td>CES6054151282</td><td>60541512</td><td>Computer systems design services</td><td>1274481</td></tr><tr><td>CEU6054151282</td><td>60541512</td><td>Computer systems design services</td><td>1309441</td></tr><tr><td>CES6054160082</td><td>60541600</td><td>Management and technical consulting services</td><td>1330587</td></tr><tr><td>CEU6054160082</td><td>60541600</td><td>Management and technical consulting services</td><td>1336594</td></tr><tr><td>CES6562400082</td><td>65624000</td><td>Social assistance</td><td>1337022</td></tr><tr><td>CEU4142400082</td><td>41424000</td><td>Nondurable goods</td><td>1348136</td></tr><tr><td>CEU6562400082</td><td>65624000</td><td>Social assistance</td><td>1357629</td></tr><tr><td>CES4142400082</td><td>41424000</td><td>Nondurable goods</td><td>1367413</td></tr><tr><td>CEU6054130082</td><td>60541300</td><td>Architectural and engineering services</td><td>1422967</td></tr><tr><td>CES6054130082</td><td>60541300</td><td>Architectural and engineering services</td><td>1439445</td></tr><tr><td>CES5552410082</td><td>55524100</td><td>Insurance carriers</td><td>1477799</td></tr><tr><td>CES6562300082</td><td>65623000</td><td>Nursing and residential care facilities</td><td>1489277</td></tr><tr><td>CES6055111482</td><td>60551114</td><td>Managing offices</td><td>1496334</td></tr><tr><td>CEU5552410082</td><td>55524100</td><td>Insurance carriers</td><td>1509979</td></tr><tr><td>CEU6055111482</td><td>60551114</td><td>Managing offices</td><td>1517287</td></tr><tr><td>CEU6562300082</td><td>65623000</td><td>Nursing and residential care facilities</td><td>1525889</td></tr><tr><td>CEU7072251182</td><td>70722511</td><td>Full-service restaurants</td><td>1528888</td></tr><tr><td>CEU6056132082</td><td>60561320</td><td>Temporary help services</td><td>1530782</td></tr><tr><td>CES6055000082</td><td>60550000</td><td>Management of companies and enterprises</td><td>1566036</td></tr><tr><td>CEU6055000082</td><td>60550000</td><td>Management of companies and enterprises</td><td>1587677</td></tr><tr><td>CEU8081300082</td><td>80813000</td><td>Membership associations and organizations</td><td>1594855</td></tr><tr><td>CES6056132082</td><td>60561320</td><td>Temporary help services</td><td>1598939</td></tr><tr><td>CES8081300082</td><td>80813000</td><td>Membership associations and organizations</td><td>1599916</td></tr><tr><td>CEU2023820082</td><td>20238200</td><td>Building equipment contractors</td><td>1621266</td></tr><tr><td>CES7072251182</td><td>70722511</td><td>Full-service restaurants</td><td>1626780</td></tr><tr><td>CES2023820082</td><td>20238200</td><td>Building equipment contractors</td><td>1696080</td></tr><tr><td>CES5552200082</td><td>55522000</td><td>Credit intermediation and related activities</td><td>1717912</td></tr><tr><td>CEU5552200082</td><td>55522000</td><td>Credit intermediation and related activities</td><td>1767137</td></tr><tr><td>CEU6056130082</td><td>60561300</td><td>Employment services</td><td>1938059</td></tr><tr><td>CES6056130082</td><td>60561300</td><td>Employment services</td><td>2013846</td></tr><tr><td>CES6562111182</td><td>65621111</td><td>Offices of physicians</td><td>2113086</td></tr><tr><td>CEU6562111182</td><td>65621111</td><td>Offices of physicians</td><td>2121845</td></tr><tr><td>CES6562110082</td><td>65621100</td><td>Offices of physicians</td><td>2141331</td></tr><tr><td>CEU6562110082</td><td>65621100</td><td>Offices of physicians</td><td>2149121</td></tr><tr><td>CES4142300082</td><td>41423000</td><td>Durable goods</td><td>2261006</td></tr><tr><td>CEU4142300082</td><td>41423000</td><td>Durable goods</td><td>2283094</td></tr><tr><td>CES5552400082</td><td>55524000</td><td>Insurance carriers and related activities</td><td>2347328</td></tr><tr><td>CEU5552400082</td><td>55524000</td><td>Insurance carriers and related activities</td><td>2408490</td></tr><tr><td>CES5000000082</td><td>50000000</td><td>Information</td><td>2416443</td></tr><tr><td>CEU5000000082</td><td>50000000</td><td>Information</td><td>2434992</td></tr><tr><td>CEU3200000082</td><td>32000000</td><td>Nondurable goods</td><td>2605069</td></tr><tr><td>CEU7072250082</td><td>70722500</td><td>Restaurants and other eating places</td><td>2617225</td></tr><tr><td>CES3200000082</td><td>32000000</td><td>Nondurable goods</td><td>2633628</td></tr><tr><td>CES6054150082</td><td>60541500</td><td>Computer systems design and related services</td><td>2666568</td></tr><tr><td>CEU6054150082</td><td>60541500</td><td>Computer systems design and related services</td><td>2725031</td></tr><tr><td>CES7072250082</td><td>70722500</td><td>Restaurants and other eating places</td><td>2768855</td></tr><tr><td>CEU8000000082</td><td>80000000</td><td>Other services</td><td>2836698</td></tr><tr><td>CES8000000082</td><td>80000000</td><td>Other services</td><td>2875314</td></tr><tr><td>CEU7072200082</td><td>70722000</td><td>Food services and drinking places</td><td>2913295</td></tr><tr><td>CEU2023800082</td><td>20238000</td><td>Specialty trade contractors</td><td>3062211</td></tr><tr><td>CES7072200082</td><td>70722000</td><td>Food services and drinking places</td><td>3085429</td></tr><tr><td>CES2023800082</td><td>20238000</td><td>Specialty trade contractors</td><td>3421902</td></tr><tr><td>CEU4300000082</td><td>43000000</td><td>Transportation and warehousing</td><td>3495553</td></tr><tr><td>CES4300000082</td><td>43000000</td><td>Transportation and warehousing</td><td>3538683</td></tr><tr><td>CEU7072000082</td><td>70720000</td><td>Accommodation and food services</td><td>3572648</td></tr><tr><td>CES7072000082</td><td>70720000</td><td>Accommodation and food services</td><td>3802356</td></tr><tr><td>CEU7000000082</td><td>70000000</td><td>Leisure and hospitality</td><td>4224098</td></tr><tr><td>CEU6056100082</td><td>60561000</td><td>Administrative and support services</td><td>4357866</td></tr><tr><td>CES4142000082</td><td>41420000</td><td>Wholesale trade</td><td>4480134</td></tr><tr><td>CEU4142000082</td><td>41420000</td><td>Wholesale trade</td><td>4506110</td></tr><tr><td>CES7000000082</td><td>70000000</td><td>Leisure and hospitality</td><td>4537173</td></tr><tr><td>CES6056100082</td><td>60561000</td><td>Administrative and support services</td><td>4565569</td></tr><tr><td>CEU6056000082</td><td>60560000</td><td>Administrative and waste services</td><td>4659531</td></tr><tr><td>CES6562210082</td><td>65622100</td><td>General medical and surgical hospitals</td><td>4716914</td></tr><tr><td>CEU2000000082</td><td>20000000</td><td>Construction</td><td>4724156</td></tr><tr><td>CEU6562210082</td><td>65622100</td><td>General medical and surgical hospitals</td><td>4773547</td></tr><tr><td>CEU3100000082</td><td>31000000</td><td>Durable goods</td><td>4808368</td></tr><tr><td>CES3100000082</td><td>31000000</td><td>Durable goods</td><td>4859716</td></tr><tr><td>CES6562100082</td><td>65621000</td><td>Ambulatory health care services</td><td>4875906</td></tr><tr><td>CES6056000082</td><td>60560000</td><td>Administrative and waste services</td><td>4886085</td></tr><tr><td>CEU6562100082</td><td>65621000</td><td>Ambulatory health care services</td><td>4907269</td></tr><tr><td>CES6562200082</td><td>65622000</td><td>Hospitals</td><td>5048432</td></tr><tr><td>CEU6562200082</td><td>65622000</td><td>Hospitals</td><td>5105336</td></tr><tr><td>CES2000000082</td><td>20000000</td><td>Construction</td><td>5335274</td></tr><tr><td>CEU4200000082</td><td>42000000</td><td>Retail trade</td><td>6060100</td></tr><tr><td>CES4200000082</td><td>42000000</td><td>Retail trade</td><td>6123554</td></tr><tr><td>CES5500000082</td><td>55000000</td><td>Financial activities</td><td>6328968</td></tr><tr><td>CEU5500000082</td><td>55000000</td><td>Financial activities</td><td>6467426</td></tr><tr><td>CEU3000000082</td><td>30000000</td><td>Manufacturing</td><td>7411960</td></tr><tr><td>CES3000000082</td><td>30000000</td><td>Manufacturing</td><td>7491723</td></tr><tr><td>CES6054000082</td><td>60540000</td><td>Professional and technical services</td><td>8821026</td></tr><tr><td>CEU6054000082</td><td>60540000</td><td>Professional and technical services</td><td>8976687</td></tr><tr><td>CES6562000182</td><td>65620001</td><td>NULL</td><td>11413008</td></tr><tr><td>CEU6562000182</td><td>65620001</td><td>NULL</td><td>11537267</td></tr><tr><td>CEU0600000082</td><td>6000000</td><td>Goods-producing</td><td>12711945</td></tr><tr><td>CES6562000082</td><td>65620000</td><td>Health care and social assistance</td><td>12762526</td></tr><tr><td>CEU6562000082</td><td>65620000</td><td>Health care and social assistance</td><td>12878462</td></tr><tr><td>CES0600000082</td><td>6000000</td><td>Goods-producing</td><td>13426820</td></tr><tr><td>CEU4000000082</td><td>40000000</td><td>Trade</td><td>14732108</td></tr><tr><td>CES6500000082</td><td>65000000</td><td>Education and health services</td><td>14765156</td></tr><tr><td>CEU6500000082</td><td>65000000</td><td>Education and health services</td><td>14816074</td></tr><tr><td>CES4000000082</td><td>40000000</td><td>Trade</td><td>14850661</td></tr><tr><td>CEU6000000082</td><td>60000000</td><td>Professional and business services</td><td>15219807</td></tr><tr><td>CES6000000082</td><td>60000000</td><td>Professional and business services</td><td>15251268</td></tr><tr><td>CEU0800000082</td><td>8000000</td><td>Private service-providing</td><td>60807771</td></tr><tr><td>CES0800000082</td><td>8000000</td><td>Private service-providing</td><td>60914722</td></tr><tr><td>CEU0500000082</td><td>5000000</td><td>Total private</td><td>73474302</td></tr><tr><td>CES0500000082</td><td>5000000</td><td>Total private</td><td>74498171</td></tr></table>"
                    },
                    "metadata": {}
                }
            ],
            "execution_count": 98
        },
        {
            "cell_type": "markdown",
            "source": [
                "2. <span style=\"background-color: rgb(255, 255, 255); font-size: 10pt; white-space: pre-wrap; color: rgb(102, 102, 102); font-family: Arvo, serif;\">Create a Union table comparing average weekly earnings&nbsp; of production and nonsupervisory employees between annual_16 and january_17 using the data type 30.&nbsp; Round to the nearest penny.&nbsp; You should have a column for the average earnings and a column for the year, and the period.</span>"
            ],
            "metadata": {
                "azdata_cell_guid": "1bb0ed09-4b02-4132-910e-5903697628af"
            },
            "attachments": {}
        },
        {
            "cell_type": "code",
            "source": [
                "SELECT 'Annual_16', ROUND(AVG([value]),2) AS 'Average Earnings' FROM LaborStatisticsDB.dbo.annual_2016\n",
                "WHERE series_id IN (SELECT series_id FROM LaborStatisticsDB.dbo.series WHERE data_type_code=30)\n",
                "UNION\n",
                "SELECT 'January_17', ROUND(AVG([value]),2) FROM LaborStatisticsDB.dbo.january_2017\n",
                "WHERE series_id IN (SELECT series_id FROM LaborStatisticsDB.dbo.series WHERE data_type_code=30)"
            ],
            "metadata": {
                "azdata_cell_guid": "0841b6d6-9af2-41ba-8e28-dc40d08bd061",
                "language": "sql"
            },
            "outputs": [
                {
                    "output_type": "display_data",
                    "data": {
                        "text/html": "(2 rows affected)"
                    },
                    "metadata": {}
                },
                {
                    "output_type": "display_data",
                    "data": {
                        "text/html": "Total execution time: 00:00:00.115"
                    },
                    "metadata": {}
                },
                {
                    "output_type": "execute_result",
                    "execution_count": 83,
                    "data": {
                        "application/vnd.dataresource+json": {
                            "schema": {
                                "fields": [
                                    {
                                        "name": "(No column name)"
                                    },
                                    {
                                        "name": "Average Earnings"
                                    }
                                ]
                            },
                            "data": [
                                {
                                    "(No column name)": "Annual_16",
                                    "Average Earnings": "797.2"
                                },
                                {
                                    "(No column name)": "January_17",
                                    "Average Earnings": "808.53"
                                }
                            ]
                        },
                        "text/html": "<table><tr><th>(No column name)</th><th>Average Earnings</th></tr><tr><td>Annual_16</td><td>797.2</td></tr><tr><td>January_17</td><td>808.53</td></tr></table>"
                    },
                    "metadata": {}
                }
            ],
            "execution_count": 83
        },
        {
            "cell_type": "markdown",
            "source": [
                "## <span style=\"font-size:12pt;font-family:Montserrat, sans-serif;color:rgb(53, 74, 95);background-color:rgb(255, 255, 255);font-weight:700;vertical-align:baseline;white-space:pre-wrap;\">Summarize Your Results</span>\n",
                "\n",
                "<span style=\"font-size:10pt;font-family:Arvo, serif;color:rgb(102, 102, 102);background-color:rgb(255, 255, 255);vertical-align:baseline;white-space:pre-wrap;\">With what you know now about the </span> <span style=\"background-color:rgb(255, 255, 255);color:rgb(102, 102, 102);font-family:&quot;Times New Roman&quot;;font-size:13.3333px;white-space:pre-wrap;\">Bureau of Labor Statistics (BLS) Current Employment Survey (CES) results and working with the</span> <span style=\"color:rgb(102, 102, 102);white-space:pre-wrap;font-family:&quot;Times New Roman&quot;;font-size:13.3333px;\">Labor Statistics Database</span><span style=\"background-color:rgb(255, 255, 255);color:rgb(102, 102, 102);font-family:Arvo, serif;font-size:10pt;white-space:pre-wrap;\">, answer the following questions. Note that while this is subjective, you should include relevant data to back up your opinion.</span>\n",
                "\n",
                "1. <span style=\"background-color:rgb(255, 255, 255);font-size:10pt;white-space:pre-wrap;color:rgb(102, 102, 102);font-family:Arvo, serif;\">During which time period did production and nonsupervisory employees fare better?</span>"
            ],
            "metadata": {
                "azdata_cell_guid": "780f65a6-b9e7-4f24-9132-293c47f559e8"
            },
            "attachments": {}
        },
        {
            "cell_type": "markdown",
            "source": [
                "### <span style=\"color: var(--vscode-foreground);\">Based on query 2 under \"Subqueries, Unions, Derived Tables, Oh My!\" section, employees were faring better in period of January 2017 earning more on average).</span>"
            ],
            "metadata": {
                "azdata_cell_guid": "f11f1fb2-f7d1-41e5-bc9c-84087d7cfc93"
            },
            "attachments": {}
        },
        {
            "cell_type": "markdown",
            "source": [
                "2. <span style=\"background-color: rgb(255, 255, 255); font-size: 10pt; white-space: pre-wrap; color: rgb(102, 102, 102); font-family: Arvo, serif;\">In which industries did production and nonsupervisory employees fare better?</span>"
            ],
            "metadata": {
                "azdata_cell_guid": "f606e5e5-f6f1-4070-bbfa-e31617b43e56"
            },
            "attachments": {}
        },
        {
            "cell_type": "markdown",
            "source": [
                "### <span style=\"color: var(--vscode-foreground);\">Based on query 1 under </span> \"Subqueries, Unions, Derived Tables, Oh My!\" section, employees were faring better in \"Total Private\" industry having the highest total weekly payroll."
            ],
            "metadata": {
                "azdata_cell_guid": "94e18f5d-b87b-4ba6-b1fd-bde035dafc04"
            },
            "attachments": {}
        },
        {
            "cell_type": "markdown",
            "source": [
                "3. <span style=\"font-size: 10pt; font-family: Arvo, serif; color: rgb(102, 102, 102); background-color: rgb(255, 255, 255); font-variant-numeric: normal; font-variant-east-asian: normal; vertical-align: baseline; white-space: pre-wrap;\">Now that you have explored the datasets, is there any data or information that you wish you had in this analysis?</span>"
            ],
            "metadata": {
                "azdata_cell_guid": "101e4449-601a-46c6-b217-23f3339cfa76"
            },
            "attachments": {}
        },
        {
            "cell_type": "markdown",
            "source": [
                "### <span style=\"color: var(--vscode-foreground);\">I whish the structure and relationship of tables in the database were provided with better explanation of differences in data type having the same names.</span>"
            ],
            "metadata": {
                "azdata_cell_guid": "d07e9180-f5e0-49b4-b395-2c6c8a5f8aac"
            },
            "attachments": {}
        }
    ]
}